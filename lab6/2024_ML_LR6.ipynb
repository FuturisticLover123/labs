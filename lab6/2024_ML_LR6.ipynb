{
  "cells": [
    {
      "cell_type": "code",
      "execution_count": 74,
      "id": "c0688b91",
      "metadata": {
        "id": "c0688b91"
      },
      "outputs": [],
      "source": [
        "import numpy as np\n",
        "from scipy.stats import entropy"
      ]
    },
    {
      "cell_type": "markdown",
      "id": "628dc6a1-ade7-49e0-a6b3-5ebb2cfbe60a",
      "metadata": {
        "id": "628dc6a1-ade7-49e0-a6b3-5ebb2cfbe60a"
      },
      "source": [
        "# <font color = 'red'> ЛР 6. Дерево решений. Метрики f1 качества классификации. </font>"
      ]
    },
    {
      "cell_type": "markdown",
      "id": "1b98c829-7c67-4ac5-87e1-b50c6d6bd510",
      "metadata": {
        "id": "1b98c829-7c67-4ac5-87e1-b50c6d6bd510"
      },
      "source": [
        "Сложность: <font color = 'green'> Легко  </font>.\n",
        "\n",
        "Дата составления: 07.10.2024\n",
        "\n",
        "Срок выполнения: 2 недели (с момента первой практики после выдачи).\n",
        "\n",
        "Автор: ст. преподаватель Кушнеров А.В."
      ]
    },
    {
      "cell_type": "markdown",
      "id": "b61b8275",
      "metadata": {
        "id": "b61b8275"
      },
      "source": [
        "## <font color = 'green'> 1. Энтропия.  </font>"
      ]
    },
    {
      "cell_type": "markdown",
      "id": "1745e687",
      "metadata": {
        "id": "1745e687"
      },
      "source": [
        "**Энтропия Шеннона** - мера хаотичности множества. Пусть задано множество из $N$ представителей $s$ различных классов. $X = (x_{1},x_{1},x_{1},...,x_{2},x_{2},...,...x_{s},x_{s},...)$.\n",
        "\n",
        "Энтропия тогда может быть вычислена по формуле:\n",
        "\n",
        "$$S(X)=-\\displaystyle\\sum_{i=1}^{s} p_{i}\\log_2 p_{i}$$\n",
        "\n",
        "Где, $p_{i}=N_{i}/N$."
      ]
    },
    {
      "cell_type": "markdown",
      "id": "4de55f55",
      "metadata": {
        "id": "4de55f55"
      },
      "source": [
        "<font color = 'red' size = 5>Задание 1 </font>\n",
        "\n",
        "Реализуйте функцию для подсчёта энтропии Шеннонна для заданной выборки. Сравните результат работы со встроенной функцией.\n",
        "\n",
        "\n",
        "[Справочная информация](https://ru.wikipedia.org/wiki/%D0%98%D0%BD%D1%84%D0%BE%D1%80%D0%BC%D0%B0%D1%86%D0%B8%D0%BE%D0%BD%D0%BD%D0%B0%D1%8F_%D1%8D%D0%BD%D1%82%D1%80%D0%BE%D0%BF%D0%B8%D1%8F)\n"
      ]
    },
    {
      "cell_type": "code",
      "execution_count": 75,
      "id": "e92121a9",
      "metadata": {
        "id": "e92121a9"
      },
      "outputs": [],
      "source": [
        "test = np.random.randint(0,3,100)\n",
        "test\n",
        "\n",
        "unique, counts = np.unique(test, return_counts=True)"
      ]
    },
    {
      "cell_type": "code",
      "execution_count": 389,
      "id": "3188b011",
      "metadata": {
        "id": "3188b011",
        "outputId": "76f7cfd3-7212-47d7-9de8-a840fefbba00",
        "colab": {
          "base_uri": "https://localhost:8080/"
        }
      },
      "outputs": [
        {
          "output_type": "execute_result",
          "data": {
            "text/plain": [
              "1.584962500721156"
            ]
          },
          "metadata": {},
          "execution_count": 389
        }
      ],
      "source": [
        "entropy(np.array([1,1,1]),base=2)"
      ]
    },
    {
      "cell_type": "code",
      "source": [
        "#task 1\n",
        "def my_entropy(x, base = 1):\n",
        "  _, counts = np.unique(x, return_counts=True)\n",
        "  return -((counts / x.shape[0]) * np.log2(counts / x.shape[0])).sum()\n",
        "\n",
        "\n",
        "\n",
        "my_entropy(np.array([1,1,1]))"
      ],
      "metadata": {
        "id": "G2UVg1s1u5kq",
        "outputId": "ac9d8387-7b4d-4b1a-f660-9db0bdd6db9b",
        "colab": {
          "base_uri": "https://localhost:8080/"
        }
      },
      "id": "G2UVg1s1u5kq",
      "execution_count": 395,
      "outputs": [
        {
          "output_type": "execute_result",
          "data": {
            "text/plain": [
              "-0.0"
            ]
          },
          "metadata": {},
          "execution_count": 395
        }
      ]
    },
    {
      "cell_type": "code",
      "source": [],
      "metadata": {
        "id": "ij_4miSCxpdh",
        "outputId": "02d91767-5eda-4fc1-d1de-b8ac5ee943c5",
        "colab": {
          "base_uri": "https://localhost:8080/"
        }
      },
      "id": "ij_4miSCxpdh",
      "execution_count": 31,
      "outputs": [
        {
          "output_type": "execute_result",
          "data": {
            "text/plain": [
              "0"
            ]
          },
          "metadata": {},
          "execution_count": 31
        }
      ]
    },
    {
      "cell_type": "markdown",
      "id": "a56618ad",
      "metadata": {
        "id": "a56618ad"
      },
      "source": [
        "## <font color = 'green'> 2. Прирост информации и дерево принятия решений  </font>"
      ]
    },
    {
      "cell_type": "markdown",
      "id": "c5b8a97e",
      "metadata": {
        "id": "c5b8a97e"
      },
      "source": [
        "Пусть исходное множество $X$ было разделено на несколько подмножеств (чаще всего на 2). В каждом из них можем посчитать энтропию. Мы ожидаем, что наше разбиение уменьшит энтропию в каждом из подмножеств или в целом, что должно приблизить нас к решению задачи классификации. Для того, чтобы получить полную картину вводят понятие прироста информации.\n",
        "\n",
        "$$IG(Q) = S_{0}-\\displaystyle\\sum_{i=1}^{q} \\frac{N_{i}}{N}S_{i}$$\n",
        "\n",
        "Тут имеем: $S_{0}$ - энтропия исходного множества, $N_{i}$ - количесвто элементов в каждом новом классе после разбиения, $N$ - исходное количество элементов, $q$ - количество множеств после разбиения,  $S_{i}$ - энтропия новых множеств.\n",
        "\n",
        "\n",
        "Суть работы решающего дерева в разделении обучающего множества на подмножества, так чтобы энтропия выборки меток уменьшалась по каждому подмножеству, а прирост информации увеличивался. В качестве критерия для разделения(по признакам) выбирают тот, который даёт наибольший прирост информации (по меткам). Эта процедура повторяется рекурсивно.\n",
        "\n",
        "[Справочная информация](https://scikit-learn.org/stable/modules/tree.html#tree)"
      ]
    },
    {
      "cell_type": "markdown",
      "id": "c8cff8e3",
      "metadata": {
        "id": "c8cff8e3"
      },
      "source": [
        "<font color = 'red' size = 5>Задание 2 </font>\n",
        "\n",
        "\n",
        "1. Реализуйте учебное приложение, которое строит решающее дерево на основе энтропии классификации на данных состоящих не более чем из двух признаков.\n",
        "2. Проверьте своё приложение на простых искусственных данных и сравните со встроенным классом DecisionTreeClassifier.\n",
        "3. Реализуйте учебное приложение, которое строит решающее дерево на основе критерия Джини классификации на данных состоящих не более чем из двух признаков.*"
      ]
    },
    {
      "cell_type": "code",
      "source": [
        "sorted([(1,2,3,4),(4,3,2,1),(4,5,6,7)], key = lambda x: x[3], reverse = True)"
      ],
      "metadata": {
        "id": "vwFRYS277NYq",
        "outputId": "4ad09292-dea3-4d51-ec80-728e14efabf6",
        "colab": {
          "base_uri": "https://localhost:8080/"
        }
      },
      "id": "vwFRYS277NYq",
      "execution_count": 68,
      "outputs": [
        {
          "output_type": "execute_result",
          "data": {
            "text/plain": [
              "[(4, 5, 6, 7), (1, 2, 3, 4), (4, 3, 2, 1)]"
            ]
          },
          "metadata": {},
          "execution_count": 68
        }
      ]
    },
    {
      "cell_type": "code",
      "source": [
        "from collections import Counter\n",
        "\n",
        "class DisicionTree:\n",
        "  def __init__(self, x, y, max_depth=3):\n",
        "    self.x, self.y = x, y\n",
        "    self.root = self.Leaf(x, y, None)\n",
        "    self.leafs = [self.root]\n",
        "    self.max_depth = max_depth\n",
        "\n",
        "  def information_gain(self, y, y_split):\n",
        "    return entropy(y,base = 2) - (np.array([entropy(yi, base=2) for yi in y_split]) * np.array([len(yi) for yi in y_split])).sum() / len(y)\n",
        "\n",
        "\n",
        "  def predict(self, x):\n",
        "    return self.root.predict(x)\n",
        "\n",
        "  def split_one_leaf(self):\n",
        "    leaf_stats = [(leaf,*self.best_split(leaf.x, leaf.y)) for leaf in self.leafs if leaf.depth <= self.max_depth]\n",
        "    leaf, feature, condition, _ = sorted(leaf_stats, key = lambda x: x[-1], reverse=True)[0]\n",
        "    self.expand_leaf(leaf, feature, condition)\n",
        "\n",
        "\n",
        "  def expand_leaf(self, leaf, feature, condition):\n",
        "    node = self.Node(feature, condition, leaf.x, leaf.y, leaf.parent, leaf.depth)\n",
        "\n",
        "    self.leafs.append(node.left)\n",
        "    self.leafs.append(node.right)\n",
        "\n",
        "    if node.parent is None:\n",
        "      self.root = node\n",
        "    else:\n",
        "      if node.parent.left is leaf:\n",
        "        node.parent.left = node\n",
        "      else:\n",
        "        node.parent.right = node\n",
        "    self.leafs.remove(leaf)\n",
        "\n",
        "\n",
        "  def best_split(self, x, y):\n",
        "    return sorted([self.one_feature_split(x, y, i) for i in range(x.shape[1])], key=lambda x: x[-1], reverse=True)[0]\n",
        "\n",
        "\n",
        "  def one_feature_split(self, x, y, feature, k=10):\n",
        "    sort_feature = x[:, feature]\n",
        "    conditions = list()\n",
        "    for _ in range(k):\n",
        "      cond_ind = np.random.randint(len(sort_feature)-1)\n",
        "      condition = (sort_feature[cond_ind] + sort_feature[cond_ind + 1]) / 2\n",
        "      conditions.append((condition, self.information_gain(y, [y[sort_feature <= condition], y[sort_feature > condition]])))\n",
        "\n",
        "    return feature, *sorted(conditions, key = lambda x: x[-1], reverse=True)[0]\n",
        "\n",
        "\n",
        "  def score(self, x, y):\n",
        "    out = np.array([self.predict(x_i) for x_i in x])\n",
        "    return abs(y - out).sum() / len(y)\n",
        "\n",
        "\n",
        "  class Node:\n",
        "    def __init__(self, feature, condition, x,y, parent, depth=1):\n",
        "      self.depth = depth\n",
        "      self.parent = parent\n",
        "      self.feature = feature\n",
        "      self.condition = condition\n",
        "      left = x[:, feature] <= condition\n",
        "      right = x[:, feature] > condition\n",
        "      self.left = DisicionTree.Leaf(x[left], y[left], self, self.depth + 1)\n",
        "      self.right = DisicionTree.Leaf(x[right], y[right], self, self.depth + 1)\n",
        "\n",
        "\n",
        "    def predict(self, x):\n",
        "      if x[self.feature] <= self.condition:\n",
        "        return self.left.predict(x)\n",
        "      else:\n",
        "        return self.right.predict(x)\n",
        "\n",
        "  class Leaf:\n",
        "    def __init__(self,x, y,parent, depth=1):\n",
        "      self.entropy = entropy(y,base=2)\n",
        "      self.parent = parent\n",
        "      self.x, self.y = x, y\n",
        "      self.depth = depth\n",
        "      self.out = Counter(y).most_common()[0][0]\n",
        "    def predict(self, x):\n",
        "      return self.out\n",
        "\n",
        "\n",
        "\n",
        ""
      ],
      "metadata": {
        "id": "P4lVemlByHNK"
      },
      "id": "P4lVemlByHNK",
      "execution_count": 375,
      "outputs": []
    },
    {
      "cell_type": "code",
      "source": [
        "from sklearn.datasets import make_classification\n",
        "x,y = make_classification(100,10)"
      ],
      "metadata": {
        "id": "t32G3ecn1cp4"
      },
      "id": "t32G3ecn1cp4",
      "execution_count": 376,
      "outputs": []
    },
    {
      "cell_type": "code",
      "source": [
        "x_t,y_t = x[1], y[0]\n",
        "tree = DisicionTree(x,y)"
      ],
      "metadata": {
        "id": "vh39GKwgDJUo"
      },
      "id": "vh39GKwgDJUo",
      "execution_count": 377,
      "outputs": []
    },
    {
      "cell_type": "code",
      "source": [
        "tree.score(x,y)"
      ],
      "metadata": {
        "id": "e7CCwjqpLKKZ",
        "outputId": "2fe83498-a64e-4cbf-d05b-8fa7ea64c9db",
        "colab": {
          "base_uri": "https://localhost:8080/"
        }
      },
      "id": "e7CCwjqpLKKZ",
      "execution_count": 378,
      "outputs": [
        {
          "output_type": "execute_result",
          "data": {
            "text/plain": [
              "0.5"
            ]
          },
          "metadata": {},
          "execution_count": 378
        }
      ]
    },
    {
      "cell_type": "code",
      "source": [
        "tree.one_feature_split(x,y,0)"
      ],
      "metadata": {
        "id": "ZWELtHeP1ytf",
        "outputId": "d86f32aa-266b-4de6-b5c2-8b89e1986cf8",
        "colab": {
          "base_uri": "https://localhost:8080/"
        }
      },
      "id": "ZWELtHeP1ytf",
      "execution_count": 379,
      "outputs": [
        {
          "output_type": "execute_result",
          "data": {
            "text/plain": [
              "(0, 0.010607846136297838, 1.1257693834979818)"
            ]
          },
          "metadata": {},
          "execution_count": 379
        }
      ]
    },
    {
      "cell_type": "code",
      "source": [
        "tree.best_split(x,y)"
      ],
      "metadata": {
        "id": "kfBIvRvmEWTr",
        "outputId": "345ac1e8-97c0-40bd-ad26-9806f8b5c7bf",
        "colab": {
          "base_uri": "https://localhost:8080/"
        }
      },
      "id": "kfBIvRvmEWTr",
      "execution_count": 380,
      "outputs": [
        {
          "output_type": "execute_result",
          "data": {
            "text/plain": [
              "(0, -0.3455065757183338, 1.114339125643225)"
            ]
          },
          "metadata": {},
          "execution_count": 380
        }
      ]
    },
    {
      "cell_type": "code",
      "source": [
        "tree.split_one_leaf()"
      ],
      "metadata": {
        "id": "oN3ZaX3sFw1W"
      },
      "id": "oN3ZaX3sFw1W",
      "execution_count": 364,
      "outputs": []
    },
    {
      "cell_type": "code",
      "source": [
        "Counter([1,2,3,3,3,3,1]).most_common()"
      ],
      "metadata": {
        "id": "btpHylG0JVKI",
        "outputId": "f25d20e0-0359-4a6a-ff10-054bd6a0135e",
        "colab": {
          "base_uri": "https://localhost:8080/"
        }
      },
      "id": "btpHylG0JVKI",
      "execution_count": 368,
      "outputs": [
        {
          "output_type": "execute_result",
          "data": {
            "text/plain": [
              "[(3, 4), (1, 2), (2, 1)]"
            ]
          },
          "metadata": {},
          "execution_count": 368
        }
      ]
    },
    {
      "cell_type": "code",
      "source": [
        "entropy([1,2,3,4],base=2)\n"
      ],
      "metadata": {
        "id": "Q1EVKfrLE2Ax",
        "outputId": "e397084b-ea66-473b-a18a-49f40929f4fb",
        "colab": {
          "base_uri": "https://localhost:8080/"
        }
      },
      "id": "Q1EVKfrLE2Ax",
      "execution_count": 386,
      "outputs": [
        {
          "output_type": "execute_result",
          "data": {
            "text/plain": [
              "1.8464393446710157"
            ]
          },
          "metadata": {},
          "execution_count": 386
        }
      ]
    },
    {
      "cell_type": "markdown",
      "id": "f7a649cc",
      "metadata": {
        "id": "f7a649cc"
      },
      "source": [
        "<font color = 'red' size = 5>Задание 3 </font>\n",
        "\n",
        "Для каждого из подзаданий:\n",
        "\n",
        "1. Проведите предварительную обработку данных.\n",
        "2. Постройте модель классификации на основе метода решающего дерева из встроенной библиотеки.\n",
        "3. Подберите оптимальные гиперпараметры модели используя различные оценки, кросс-валидацию и валидационные кривые.\n",
        "4. Сделайте выводы о точности моделей.\n",
        "5. Продумайте, как дерево может бороться с переобучением. Подвердите валидационными кривыми.\n",
        "6. Оцените качество модели с помощью precision\\recall score.\n",
        "\n",
        "(https://scikit-learn.org/stable/auto_examples/model_selection/plot_precision_recall.html)\n",
        "\n"
      ]
    },
    {
      "cell_type": "markdown",
      "id": "53471a68",
      "metadata": {
        "id": "53471a68"
      },
      "source": [
        "##### 3.1 Самый известный датасет в мире.\n",
        "\n",
        "Используйте данные из сэта о [титанике](https://www.kaggle.com/c/titanic) для предсказания выживания.\n",
        "Предврительно изучите и подготовьте данные.\n",
        "\n",
        "#####  3.2 Предсказание диабета у пациентов.\n",
        "\n",
        "Используйте данные из файла [diabetes.csv](https://www.kaggle.com/datasets/saurabh00007/diabetescsv) для предсказания исхода для пациентов. Столбец \"outcome\". Предварительно изучите и подготовьте данные.\n",
        "\n",
        "\n",
        "##### 3.3 Данные о цветках ириса\n",
        "\n",
        "[IrisDataset](https://www.kaggle.com/datasets/uciml/iris)\n",
        "\n",
        "##### 3.4 Грибы\n",
        "\n",
        "Поппробуйте предсказать съедобность гриба с помощью дерева принятия решений.\n",
        "[mushrooms](https://www.kaggle.com/datasets/uciml/mushroom-classification/code)\n",
        "\n"
      ]
    },
    {
      "cell_type": "markdown",
      "id": "a14b51cd",
      "metadata": {
        "id": "a14b51cd"
      },
      "source": [
        "<font color = 'red' size = 5>Задание 4 </font>\n",
        "\n",
        "Используя встроенные методы реализуйте регрессию с помощью решающего дерева. Примените для данных из предыдущих ЛР. Сделайте выводы. По какому принципу работает дерево в случае регресии?"
      ]
    }
  ],
  "metadata": {
    "kernelspec": {
      "display_name": "Python 3 (ipykernel)",
      "language": "python",
      "name": "python3"
    },
    "language_info": {
      "codemirror_mode": {
        "name": "ipython",
        "version": 3
      },
      "file_extension": ".py",
      "mimetype": "text/x-python",
      "name": "python",
      "nbconvert_exporter": "python",
      "pygments_lexer": "ipython3",
      "version": "3.12.4"
    },
    "colab": {
      "provenance": []
    }
  },
  "nbformat": 4,
  "nbformat_minor": 5
}