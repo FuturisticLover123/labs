{
  "nbformat": 4,
  "nbformat_minor": 0,
  "metadata": {
    "colab": {
      "provenance": [],
      "authorship_tag": "ABX9TyO+eSzZ4wdOaNUmay6C3xOf",
      "include_colab_link": true
    },
    "kernelspec": {
      "name": "python3",
      "display_name": "Python 3"
    },
    "language_info": {
      "name": "python"
    }
  },
  "cells": [
    {
      "cell_type": "markdown",
      "metadata": {
        "id": "view-in-github",
        "colab_type": "text"
      },
      "source": [
        "<a href=\"https://colab.research.google.com/github/FuturisticLover123/labs/blob/main/lab8/solution.ipynb\" target=\"_parent\"><img src=\"https://colab.research.google.com/assets/colab-badge.svg\" alt=\"Open In Colab\"/></a>"
      ]
    },
    {
      "cell_type": "code",
      "execution_count": null,
      "metadata": {
        "id": "TfZVdaKY4o6M"
      },
      "outputs": [],
      "source": [
        "import numpy as np\n",
        "\n",
        "class NBC:\n",
        "  def __init__(self):\n",
        "    self.feature_distribution = lambda x, m, q: (1 / (q * np.sqrt(2 * np.pi)) ) * np.exp(-((x - m)**2 / (2 * q**2)))\n",
        "\n",
        "  def fit(self,x , y):\n",
        "    self.x, self.y = x, y\n",
        "    self.classes = list(set(self.y))\n",
        "\n",
        "    index_class = { clas: np.where(self.y == clas)[0] for clas in self.classes }\n",
        "\n",
        "    self.classifying_data = {clas: { \"prior_probability\" : len(index_class[clas]) / len(self.y),\n",
        "                                    \"mean\": np.mean(self.x[index_class[clas]], axis=0),\n",
        "                                     \"std\": np.std(self.x[index_class[clas]], axis = 0)\n",
        "                                     }  for clas in self.classes }\n",
        "\n",
        "\n",
        "  def classify(self, x):\n",
        "    return self.classes[np.argmax(np.array([self.feature_distribution(x, self.classifying_data[clas][\"mean\"], self.classifying_data[clas][\"std\"]).sum() + self.classifying_data[clas][\"prior_probability\"] for clas in self.classes]))]\n",
        "\n",
        "\n",
        "  def predict(self,x):\n",
        "    return np.array([self.classify(x_i) for x_i in x])\n",
        "\n",
        "  def statistics(self, x, y):\n",
        "    out = self.predict(x)\n",
        "    outputs = {'False': 0, 'True': 1}\n",
        "    tp, tn, fp, fn = 0, 0, 0, 0\n",
        "    for out_i, y_i in zip(out, y):\n",
        "      if out_i == outputs['True']:\n",
        "        if y_i == outputs['True']:\n",
        "          tp += 1\n",
        "        else:\n",
        "          fp += 1\n",
        "      else:\n",
        "        if y_i == outputs['True']:\n",
        "          fn += 1\n",
        "        else:\n",
        "          tn += 1\n",
        "    return {'TP': tp, 'TN': tn, 'FP': fp, 'FN': fn}\n",
        "\n",
        "  def score(self, x, y):\n",
        "    stats = self.statistics(x, y)\n",
        "    return (stats['TP'] + stats['TN']) / (stats['TP'] + stats['TN'] + stats['FP'] + stats['FN'])\n",
        "\n"
      ]
    },
    {
      "cell_type": "code",
      "source": [
        "from sklearn.datasets import make_classification\n"
      ],
      "metadata": {
        "id": "wTvURD0V5X20"
      },
      "execution_count": null,
      "outputs": []
    },
    {
      "cell_type": "code",
      "source": [
        "x,y = make_classification(n_samples = 1000,n_features = 30,n_redundant=20)"
      ],
      "metadata": {
        "id": "-xL5vp5N5c95"
      },
      "execution_count": null,
      "outputs": []
    },
    {
      "cell_type": "code",
      "source": [
        "from sklearn.datasets import load_iris"
      ],
      "metadata": {
        "id": "iLGsLao5GlYf"
      },
      "execution_count": null,
      "outputs": []
    },
    {
      "cell_type": "code",
      "source": [
        "data = load_iris()\n",
        "x = data[\"data\"]\n",
        "y = data[\"target\"]"
      ],
      "metadata": {
        "id": "tk_wN6FWGsmQ"
      },
      "execution_count": null,
      "outputs": []
    },
    {
      "cell_type": "code",
      "source": [
        "nbc=NBC()\n",
        "nbc.fit(x,y)\n",
        "nbc.score(x,y)"
      ],
      "metadata": {
        "colab": {
          "base_uri": "https://localhost:8080/"
        },
        "id": "tPdAa0-MGt-s",
        "outputId": "b39ac1dc-a95e-48ba-9f1f-4fec9e7eba23"
      },
      "execution_count": null,
      "outputs": [
        {
          "output_type": "execute_result",
          "data": {
            "text/plain": [
              "0.913"
            ]
          },
          "metadata": {},
          "execution_count": 312
        }
      ]
    },
    {
      "cell_type": "code",
      "source": [],
      "metadata": {
        "id": "jCdKMpvKM1hS"
      },
      "execution_count": null,
      "outputs": []
    }
  ]
}