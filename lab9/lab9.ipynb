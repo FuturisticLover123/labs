{
  "nbformat": 4,
  "nbformat_minor": 0,
  "metadata": {
    "colab": {
      "provenance": [],
      "authorship_tag": "ABX9TyPKmbIIq0RBLQvAGnA40Ps3",
      "include_colab_link": true
    },
    "kernelspec": {
      "name": "python3",
      "display_name": "Python 3"
    },
    "language_info": {
      "name": "python"
    }
  },
  "cells": [
    {
      "cell_type": "markdown",
      "metadata": {
        "id": "view-in-github",
        "colab_type": "text"
      },
      "source": [
        "<a href=\"https://colab.research.google.com/github/FuturisticLover123/labs/blob/main/lab9/lab9.ipynb\" target=\"_parent\"><img src=\"https://colab.research.google.com/assets/colab-badge.svg\" alt=\"Open In Colab\"/></a>"
      ]
    },
    {
      "cell_type": "code",
      "execution_count": 409,
      "metadata": {
        "id": "XmqRSaxVESeY"
      },
      "outputs": [],
      "source": [
        "#task1"
      ]
    },
    {
      "cell_type": "code",
      "source": [
        "from sklearn.decomposition import PCA\n",
        "from sklearn.datasets import make_regression\n",
        "import matplotlib.pyplot as plt\n",
        "import numpy as np\n",
        "x, y = make_regression(n_samples=10, n_features=10, noise=20, n_informative=2)"
      ],
      "metadata": {
        "id": "TjgGqeiKF9F7"
      },
      "execution_count": 479,
      "outputs": []
    },
    {
      "cell_type": "code",
      "source": [
        "pca = PCA(n_components=5)\n",
        "pca.fit_transform(x)"
      ],
      "metadata": {
        "colab": {
          "base_uri": "https://localhost:8080/"
        },
        "id": "HaAwfnpwNCjo",
        "outputId": "07266ce0-bb2d-44a8-acff-5c8e841f2409"
      },
      "execution_count": 480,
      "outputs": [
        {
          "output_type": "execute_result",
          "data": {
            "text/plain": [
              "array([[ 0.47681525, -1.94537703, -1.64063348,  0.84248548,  0.47185579],\n",
              "       [-0.15708581,  2.07199852,  0.76020445,  1.64002001, -0.14749135],\n",
              "       [ 3.71522232,  0.06292516, -0.13396419, -0.21947977, -1.00144421],\n",
              "       [ 0.09259989,  1.07512768, -0.51232421, -0.15921064,  0.13254664],\n",
              "       [-0.66425009, -1.68005173, -0.77732392,  0.09458926, -0.08903797],\n",
              "       [-0.04312613,  0.93390033,  0.44085791,  0.73054022,  0.80116823],\n",
              "       [-1.44862303, -2.19742962,  2.01125301,  0.28066349, -0.59329312],\n",
              "       [ 0.2276041 ,  0.32880113,  1.1560347 , -1.48755519,  0.25277176],\n",
              "       [ 0.34209992,  0.00586508,  0.09915014, -0.98864622,  1.02589465],\n",
              "       [-2.54125642,  1.34424048, -1.4032544 , -0.73340663, -0.85297044]])"
            ]
          },
          "metadata": {},
          "execution_count": 480
        }
      ]
    },
    {
      "cell_type": "code",
      "source": [
        "class PCA:\n",
        "  def fit(self, x, y):\n",
        "    centered = x - np.mean(x, axis = 0)\n",
        "    A = (1 / (x.shape[0] - 1)) * centered.T @ centered\n",
        "    eigenvalues, eigenvectors = np.linalg.eig(A)\n",
        "    sorted_indices = np.argsort(eigenvalues)[::-1]\n",
        "\n",
        "    self.c = eigenvalues[sorted_indices]\n",
        "    self.vectors = eigenvectors[:, sorted_indices].T\n",
        "    self.cs = np.cumsum(self.c / np.sum(self.c))\n",
        "    return self\n",
        "\n",
        "  def transform(self, x, components: int =None, p = 0.95):\n",
        "    if components is not None:\n",
        "      return (x - np.mean(x, axis=0)) @ self.vectors[:components].T\n",
        "    return (x - np.mean(x, axis=0)) @ self.vectors[:np.argmax(self.cs > p)].T\n",
        "\n",
        "  def picture(self, p=0.95):\n",
        "    plt.plot(np.arange(1, len(self.cs) + 1), self.cs, marker='o', linestyle='-', color='b')\n",
        "    plt.axhline(y=p, color='r', linestyle='-')\n",
        "    plt.grid(True)\n",
        "    plt.show()\n"
      ],
      "metadata": {
        "id": "30gmwzMmU5Ic"
      },
      "execution_count": 481,
      "outputs": []
    },
    {
      "cell_type": "code",
      "source": [
        "pca = PCA().fit(x, y)\n",
        "pca.transform(x, components=5)"
      ],
      "metadata": {
        "colab": {
          "base_uri": "https://localhost:8080/"
        },
        "id": "06leBNs7WSTq",
        "outputId": "7892183d-b130-4121-eff4-44bef7ff621f"
      },
      "execution_count": 482,
      "outputs": [
        {
          "output_type": "execute_result",
          "data": {
            "text/plain": [
              "array([[-0.47681525,  1.94537703,  1.64063348,  0.84248548, -0.47185579],\n",
              "       [ 0.15708581, -2.07199852, -0.76020445,  1.64002001,  0.14749135],\n",
              "       [-3.71522232, -0.06292516,  0.13396419, -0.21947977,  1.00144421],\n",
              "       [-0.09259989, -1.07512768,  0.51232421, -0.15921064, -0.13254664],\n",
              "       [ 0.66425009,  1.68005173,  0.77732392,  0.09458926,  0.08903797],\n",
              "       [ 0.04312613, -0.93390033, -0.44085791,  0.73054022, -0.80116823],\n",
              "       [ 1.44862303,  2.19742962, -2.01125301,  0.28066349,  0.59329312],\n",
              "       [-0.2276041 , -0.32880113, -1.1560347 , -1.48755519, -0.25277176],\n",
              "       [-0.34209992, -0.00586508, -0.09915014, -0.98864622, -1.02589465],\n",
              "       [ 2.54125642, -1.34424048,  1.4032544 , -0.73340663,  0.85297044]])"
            ]
          },
          "metadata": {},
          "execution_count": 482
        }
      ]
    },
    {
      "cell_type": "code",
      "source": [
        "#task2"
      ],
      "metadata": {
        "id": "tzuSz0rfWuwf"
      },
      "execution_count": 483,
      "outputs": []
    },
    {
      "cell_type": "code",
      "source": [
        "from sklearn import datasets\n",
        "from sklearn.model_selection import train_test_split\n",
        "from sklearn.linear_model import LogisticRegression\n",
        "from sklearn.metrics import accuracy_score\n",
        "iris = datasets.load_iris()\n",
        "x = iris.data\n",
        "y = iris.target"
      ],
      "metadata": {
        "id": "bOFwrWS4W19k"
      },
      "execution_count": 484,
      "outputs": []
    },
    {
      "cell_type": "code",
      "source": [
        "x2c = PCA().fit(x, y).transform(x, components=2)\n",
        "LogisticRegression().fit(x2c, y).score(x2c, y)"
      ],
      "metadata": {
        "colab": {
          "base_uri": "https://localhost:8080/"
        },
        "id": "0TdHYeRTW43r",
        "outputId": "30d6e458-9e50-4e31-9a85-fc90d02b3091"
      },
      "execution_count": 485,
      "outputs": [
        {
          "output_type": "execute_result",
          "data": {
            "text/plain": [
              "0.9666666666666667"
            ]
          },
          "metadata": {},
          "execution_count": 485
        }
      ]
    },
    {
      "cell_type": "code",
      "source": [
        "x3c = PCA().fit(x, y).transform(x, components=3)\n",
        "LogisticRegression().fit(x3c, y).score(x3c, y)"
      ],
      "metadata": {
        "colab": {
          "base_uri": "https://localhost:8080/"
        },
        "id": "Q_u8rAgoX70X",
        "outputId": "6579bd08-32c3-4f4a-bb02-f4fa2ed057f3"
      },
      "execution_count": 486,
      "outputs": [
        {
          "output_type": "execute_result",
          "data": {
            "text/plain": [
              "0.9733333333333334"
            ]
          },
          "metadata": {},
          "execution_count": 486
        }
      ]
    },
    {
      "cell_type": "code",
      "source": [
        "x1c = PCA().fit(x, y).transform(x, components=1)\n",
        "LogisticRegression().fit(x1c, y).score(x1c, y)"
      ],
      "metadata": {
        "colab": {
          "base_uri": "https://localhost:8080/"
        },
        "id": "saHe3aitYDPa",
        "outputId": "ed137c67-c583-41e7-f8c2-239964946c40"
      },
      "execution_count": 487,
      "outputs": [
        {
          "output_type": "execute_result",
          "data": {
            "text/plain": [
              "0.94"
            ]
          },
          "metadata": {},
          "execution_count": 487
        }
      ]
    },
    {
      "cell_type": "code",
      "source": [
        "#task3"
      ],
      "metadata": {
        "id": "QyZnsO5FYQaL"
      },
      "execution_count": 488,
      "outputs": []
    },
    {
      "cell_type": "code",
      "source": [
        "digits = datasets.load_digits()\n",
        "X = digits.data\n",
        "y = digits.target"
      ],
      "metadata": {
        "id": "Uhok_EHeYaLz"
      },
      "execution_count": 489,
      "outputs": []
    },
    {
      "cell_type": "code",
      "source": [
        "pca = PCA().fit(X, y)"
      ],
      "metadata": {
        "id": "zhl9TC33YgDU"
      },
      "execution_count": 490,
      "outputs": []
    },
    {
      "cell_type": "code",
      "source": [
        "pca.picture()"
      ],
      "metadata": {
        "colab": {
          "base_uri": "https://localhost:8080/",
          "height": 430
        },
        "id": "fuYxJIW9YpBX",
        "outputId": "5f27b6b7-9f3b-47dc-8b83-9ec0c472610d"
      },
      "execution_count": 492,
      "outputs": [
        {
          "output_type": "display_data",
          "data": {
            "text/plain": [
              "<Figure size 640x480 with 1 Axes>"
            ],
            "image/png": "[encoded data removed]"
          },
          "metadata": {}
        }
      ]
    },
    {
      "cell_type": "code",
      "source": [
        "transformed = pca.transform(X, components=10)\n",
        "LogisticRegression().fit(transformed, y).score(transformed, y)"
      ],
      "metadata": {
        "colab": {
          "base_uri": "https://localhost:8080/"
        },
        "id": "zywUqG6PZYv4",
        "outputId": "12f6165b-e465-4392-c6d6-7c3270edcba5"
      },
      "execution_count": 493,
      "outputs": [
        {
          "output_type": "stream",
          "name": "stderr",
          "text": [
            "/usr/local/lib/python3.10/dist-packages/sklearn/linear_model/_logistic.py:469: ConvergenceWarning: lbfgs failed to converge (status=1):\n",
            "STOP: TOTAL NO. of ITERATIONS REACHED LIMIT.\n",
            "\n",
            "Increase the number of iterations (max_iter) or scale the data as shown in:\n",
            "    https://scikit-learn.org/stable/modules/preprocessing.html\n",
            "Please also refer to the documentation for alternative solver options:\n",
            "    https://scikit-learn.org/stable/modules/linear_model.html#logistic-regression\n",
            "  n_iter_i = _check_optimize_result(\n"
          ]
        },
        {
          "output_type": "execute_result",
          "data": {
            "text/plain": [
              "0.9532554257095158"
            ]
          },
          "metadata": {},
          "execution_count": 493
        }
      ]
    },
    {
      "cell_type": "code",
      "source": [
        "transformed = pca.transform(X, components=5)\n",
        "LogisticRegression().fit(transformed, y).score(transformed, y)"
      ],
      "metadata": {
        "colab": {
          "base_uri": "https://localhost:8080/"
        },
        "id": "fUHuRTlyaFt9",
        "outputId": "28df043c-1054-423b-e7e3-2aa466a1cf6b"
      },
      "execution_count": 494,
      "outputs": [
        {
          "output_type": "stream",
          "name": "stderr",
          "text": [
            "/usr/local/lib/python3.10/dist-packages/sklearn/linear_model/_logistic.py:469: ConvergenceWarning: lbfgs failed to converge (status=1):\n",
            "STOP: TOTAL NO. of ITERATIONS REACHED LIMIT.\n",
            "\n",
            "Increase the number of iterations (max_iter) or scale the data as shown in:\n",
            "    https://scikit-learn.org/stable/modules/preprocessing.html\n",
            "Please also refer to the documentation for alternative solver options:\n",
            "    https://scikit-learn.org/stable/modules/linear_model.html#logistic-regression\n",
            "  n_iter_i = _check_optimize_result(\n"
          ]
        },
        {
          "output_type": "execute_result",
          "data": {
            "text/plain": [
              "0.8569838619922092"
            ]
          },
          "metadata": {},
          "execution_count": 494
        }
      ]
    },
    {
      "cell_type": "code",
      "source": [],
      "metadata": {
        "id": "y1D2OVOQaJSH"
      },
      "execution_count": null,
      "outputs": []
    }
  ]
}