{
 "cells": [
  {
   "cell_type": "markdown",
   "id": "25369ced",
   "metadata": {},
   "source": [
    "# <font color = 'red'> ЛР 1. Введение. Инструменты python для базовых задач МО. </font>"
   ]
  },
  {
   "cell_type": "markdown",
   "id": "427f8b1e",
   "metadata": {},
   "source": [
    "Сложность: <font color = 'green'> Легко  </font>.\n",
    "\n",
    "Дата: 03.09.2024\n",
    "\n",
    "Срок выполнения: 1 неделя."
   ]
  },
  {
   "cell_type": "markdown",
   "id": "3f1b6159",
   "metadata": {},
   "source": [
    "## <font color = 'green'> 1. Библиотека numpy. База.  </font>"
   ]
  },
  {
   "cell_type": "markdown",
   "id": "d47e0589",
   "metadata": {},
   "source": [
    "**NumPy (Numerical Python)** — это библиотека языка Python, добавляющая поддержку больших многомерных массивов и матриц, вместе с большой библиотекой высокоуровневых (и очень быстрых) математических функций для операций с этими массивами."
   ]
  },
  {
   "cell_type": "code",
   "execution_count": 1,
   "id": "3a219691",
   "metadata": {},
   "outputs": [
    {
     "data": {
      "text/plain": [
       "'1.26.4'"
      ]
     },
     "execution_count": 1,
     "metadata": {},
     "output_type": "execute_result"
    }
   ],
   "source": [
    "import numpy as np\n",
    "np.__version__"
   ]
  },
  {
   "cell_type": "code",
   "execution_count": 2,
   "id": "0cd412e5-4c66-4a18-a7a3-91b56498fb44",
   "metadata": {},
   "outputs": [
    {
     "data": {
      "text/plain": [
       "'3.12.4 | packaged by Anaconda, Inc. | (main, Jun 18 2024, 15:03:56) [MSC v.1929 64 bit (AMD64)]'"
      ]
     },
     "execution_count": 2,
     "metadata": {},
     "output_type": "execute_result"
    }
   ],
   "source": [
    "import sys\n",
    "sys.version"
   ]
  },
  {
   "cell_type": "code",
   "execution_count": 3,
   "id": "ba8b6896",
   "metadata": {},
   "outputs": [
    {
     "data": {
      "text/plain": [
       "1.4711276743037347"
      ]
     },
     "execution_count": 3,
     "metadata": {},
     "output_type": "execute_result"
    }
   ],
   "source": [
    "np.arctan(10)"
   ]
  },
  {
   "cell_type": "code",
   "execution_count": 4,
   "id": "37ff9468",
   "metadata": {},
   "outputs": [
    {
     "data": {
      "text/plain": [
       "\u001b[1;31mSignature:\u001b[0m       \u001b[0mnp\u001b[0m\u001b[1;33m.\u001b[0m\u001b[0marctan\u001b[0m\u001b[1;33m(\u001b[0m\u001b[1;33m*\u001b[0m\u001b[0margs\u001b[0m\u001b[1;33m,\u001b[0m \u001b[1;33m**\u001b[0m\u001b[0mkwargs\u001b[0m\u001b[1;33m)\u001b[0m\u001b[1;33m\u001b[0m\u001b[1;33m\u001b[0m\u001b[0m\n",
       "\u001b[1;31mType:\u001b[0m            ufunc\n",
       "\u001b[1;31mString form:\u001b[0m     <ufunc 'arctan'>\n",
       "\u001b[1;31mFile:\u001b[0m            c:\\users\\user\\anaconda3\\envs\\lr2024\\lib\\site-packages\\numpy\\__init__.py\n",
       "\u001b[1;31mDocstring:\u001b[0m      \n",
       "arctan(x, /, out=None, *, where=True, casting='same_kind', order='K', dtype=None, subok=True[, signature, extobj])\n",
       "\n",
       "Trigonometric inverse tangent, element-wise.\n",
       "\n",
       "The inverse of tan, so that if ``y = tan(x)`` then ``x = arctan(y)``.\n",
       "\n",
       "Parameters\n",
       "----------\n",
       "x : array_like\n",
       "out : ndarray, None, or tuple of ndarray and None, optional\n",
       "    A location into which the result is stored. If provided, it must have\n",
       "    a shape that the inputs broadcast to. If not provided or None,\n",
       "    a freshly-allocated array is returned. A tuple (possible only as a\n",
       "    keyword argument) must have length equal to the number of outputs.\n",
       "where : array_like, optional\n",
       "    This condition is broadcast over the input. At locations where the\n",
       "    condition is True, the `out` array will be set to the ufunc result.\n",
       "    Elsewhere, the `out` array will retain its original value.\n",
       "    Note that if an uninitialized `out` array is created via the default\n",
       "    ``out=None``, locations within it where the condition is False will\n",
       "    remain uninitialized.\n",
       "**kwargs\n",
       "    For other keyword-only arguments, see the\n",
       "    :ref:`ufunc docs <ufuncs.kwargs>`.\n",
       "\n",
       "Returns\n",
       "-------\n",
       "out : ndarray or scalar\n",
       "    Out has the same shape as `x`.  Its real part is in\n",
       "    ``[-pi/2, pi/2]`` (``arctan(+/-inf)`` returns ``+/-pi/2``).\n",
       "    This is a scalar if `x` is a scalar.\n",
       "\n",
       "See Also\n",
       "--------\n",
       "arctan2 : The \"four quadrant\" arctan of the angle formed by (`x`, `y`)\n",
       "    and the positive `x`-axis.\n",
       "angle : Argument of complex values.\n",
       "\n",
       "Notes\n",
       "-----\n",
       "`arctan` is a multi-valued function: for each `x` there are infinitely\n",
       "many numbers `z` such that tan(`z`) = `x`.  The convention is to return\n",
       "the angle `z` whose real part lies in [-pi/2, pi/2].\n",
       "\n",
       "For real-valued input data types, `arctan` always returns real output.\n",
       "For each value that cannot be expressed as a real number or infinity,\n",
       "it yields ``nan`` and sets the `invalid` floating point error flag.\n",
       "\n",
       "For complex-valued input, `arctan` is a complex analytic function that\n",
       "has [``1j, infj``] and [``-1j, -infj``] as branch cuts, and is continuous\n",
       "from the left on the former and from the right on the latter.\n",
       "\n",
       "The inverse tangent is also known as `atan` or tan^{-1}.\n",
       "\n",
       "References\n",
       "----------\n",
       "Abramowitz, M. and Stegun, I. A., *Handbook of Mathematical Functions*,\n",
       "10th printing, New York: Dover, 1964, pp. 79.\n",
       "https://personal.math.ubc.ca/~cbm/aands/page_79.htm\n",
       "\n",
       "Examples\n",
       "--------\n",
       "We expect the arctan of 0 to be 0, and of 1 to be pi/4:\n",
       "\n",
       ">>> np.arctan([0, 1])\n",
       "array([ 0.        ,  0.78539816])\n",
       "\n",
       ">>> np.pi/4\n",
       "0.78539816339744828\n",
       "\n",
       "Plot arctan:\n",
       "\n",
       ">>> import matplotlib.pyplot as plt\n",
       ">>> x = np.linspace(-10, 10)\n",
       ">>> plt.plot(x, np.arctan(x))\n",
       ">>> plt.axis('tight')\n",
       ">>> plt.show()\n",
       "\u001b[1;31mClass docstring:\u001b[0m\n",
       "Functions that operate element by element on whole arrays.\n",
       "\n",
       "To see the documentation for a specific ufunc, use `info`.  For\n",
       "example, ``np.info(np.sin)``.  Because ufuncs are written in C\n",
       "(for speed) and linked into Python with NumPy's ufunc facility,\n",
       "Python's help() function finds this page whenever help() is called\n",
       "on a ufunc.\n",
       "\n",
       "A detailed explanation of ufuncs can be found in the docs for :ref:`ufuncs`.\n",
       "\n",
       "**Calling ufuncs:** ``op(*x[, out], where=True, **kwargs)``\n",
       "\n",
       "Apply `op` to the arguments `*x` elementwise, broadcasting the arguments.\n",
       "\n",
       "The broadcasting rules are:\n",
       "\n",
       "* Dimensions of length 1 may be prepended to either array.\n",
       "* Arrays may be repeated along dimensions of length 1.\n",
       "\n",
       "Parameters\n",
       "----------\n",
       "*x : array_like\n",
       "    Input arrays.\n",
       "out : ndarray, None, or tuple of ndarray and None, optional\n",
       "    Alternate array object(s) in which to put the result; if provided, it\n",
       "    must have a shape that the inputs broadcast to. A tuple of arrays\n",
       "    (possible only as a keyword argument) must have length equal to the\n",
       "    number of outputs; use None for uninitialized outputs to be\n",
       "    allocated by the ufunc.\n",
       "where : array_like, optional\n",
       "    This condition is broadcast over the input. At locations where the\n",
       "    condition is True, the `out` array will be set to the ufunc result.\n",
       "    Elsewhere, the `out` array will retain its original value.\n",
       "    Note that if an uninitialized `out` array is created via the default\n",
       "    ``out=None``, locations within it where the condition is False will\n",
       "    remain uninitialized.\n",
       "**kwargs\n",
       "    For other keyword-only arguments, see the :ref:`ufunc docs <ufuncs.kwargs>`.\n",
       "\n",
       "Returns\n",
       "-------\n",
       "r : ndarray or tuple of ndarray\n",
       "    `r` will have the shape that the arrays in `x` broadcast to; if `out` is\n",
       "    provided, it will be returned. If not, `r` will be allocated and\n",
       "    may contain uninitialized values. If the function has more than one\n",
       "    output, then the result will be a tuple of arrays."
      ]
     },
     "metadata": {},
     "output_type": "display_data"
    }
   ],
   "source": [
    "np.arctan?"
   ]
  },
  {
   "cell_type": "markdown",
   "id": "d38e1c04",
   "metadata": {},
   "source": [
    "**Создаём массивы**"
   ]
  },
  {
   "cell_type": "code",
   "execution_count": 5,
   "id": "3a41d324",
   "metadata": {},
   "outputs": [
    {
     "data": {
      "text/plain": [
       "array([1, 2, 3, 4])"
      ]
     },
     "execution_count": 5,
     "metadata": {},
     "output_type": "execute_result"
    }
   ],
   "source": [
    "np.array([1, 2, 3, 4])"
   ]
  },
  {
   "cell_type": "code",
   "execution_count": 6,
   "id": "ce955ece",
   "metadata": {},
   "outputs": [
    {
     "data": {
      "text/plain": [
       "array([1., 2., 3., 4.], dtype=float32)"
      ]
     },
     "execution_count": 6,
     "metadata": {},
     "output_type": "execute_result"
    }
   ],
   "source": [
    "a = np.array([1, 2, 3, 4], dtype = 'float32')\n",
    "a"
   ]
  },
  {
   "cell_type": "code",
   "execution_count": 9,
   "id": "c6f55078-60f0-41c9-ab2c-c9180e2c153f",
   "metadata": {},
   "outputs": [
    {
     "data": {
      "text/plain": [
       "numpy.ndarray"
      ]
     },
     "execution_count": 9,
     "metadata": {},
     "output_type": "execute_result"
    }
   ],
   "source": [
    "type(a)"
   ]
  },
  {
   "cell_type": "code",
   "execution_count": null,
   "id": "c6058a53",
   "metadata": {},
   "outputs": [],
   "source": [
    "np.append(a,2)"
   ]
  },
  {
   "cell_type": "code",
   "execution_count": null,
   "id": "d611a17d",
   "metadata": {},
   "outputs": [],
   "source": [
    "a"
   ]
  },
  {
   "cell_type": "code",
   "execution_count": null,
   "id": "c916ac35",
   "metadata": {},
   "outputs": [],
   "source": [
    "np.array([range(i, i + 3) for i in [2, 4, 6]]) #преобразование вложенных данных в массив"
   ]
  },
  {
   "cell_type": "code",
   "execution_count": null,
   "id": "e550c1cd",
   "metadata": {},
   "outputs": [],
   "source": [
    "np.zeros(10, dtype=int)"
   ]
  },
  {
   "cell_type": "code",
   "execution_count": null,
   "id": "451c436c",
   "metadata": {},
   "outputs": [],
   "source": [
    "np.zeros((3,3), dtype=int)"
   ]
  },
  {
   "cell_type": "code",
   "execution_count": null,
   "id": "2ea24e27",
   "metadata": {},
   "outputs": [],
   "source": [
    "np.ones((3,3), dtype=int)"
   ]
  },
  {
   "cell_type": "code",
   "execution_count": null,
   "id": "fd93b12f",
   "metadata": {},
   "outputs": [],
   "source": [
    "np.full((3,3), np.pi)"
   ]
  },
  {
   "cell_type": "code",
   "execution_count": null,
   "id": "7ef9c51d",
   "metadata": {},
   "outputs": [],
   "source": [
    "np.arange(0,20,2)"
   ]
  },
  {
   "cell_type": "code",
   "execution_count": null,
   "id": "e10ea8b7",
   "metadata": {},
   "outputs": [],
   "source": [
    "np.linspace(0,1,5)"
   ]
  },
  {
   "cell_type": "code",
   "execution_count": null,
   "id": "768129bf",
   "metadata": {},
   "outputs": [],
   "source": [
    "np.logspace(0,1,5) # последовательность степеней"
   ]
  },
  {
   "cell_type": "code",
   "execution_count": null,
   "id": "9b4dd54f",
   "metadata": {},
   "outputs": [],
   "source": [
    "10**np.linspace(0,1,5)"
   ]
  },
  {
   "cell_type": "code",
   "execution_count": null,
   "id": "2c722b72",
   "metadata": {},
   "outputs": [],
   "source": [
    "np.logspace(0,5,6,base = 2)"
   ]
  },
  {
   "cell_type": "code",
   "execution_count": null,
   "id": "f0263e51",
   "metadata": {},
   "outputs": [],
   "source": [
    "np.random.random((3,3))"
   ]
  },
  {
   "cell_type": "code",
   "execution_count": null,
   "id": "02db635a",
   "metadata": {},
   "outputs": [],
   "source": [
    "np.random.randint(0, 10, (3, 3))"
   ]
  },
  {
   "cell_type": "code",
   "execution_count": null,
   "id": "56c7e8b6",
   "metadata": {},
   "outputs": [],
   "source": [
    "np.eye(3)"
   ]
  },
  {
   "cell_type": "code",
   "execution_count": null,
   "id": "5daa8529",
   "metadata": {},
   "outputs": [],
   "source": [
    "test = np.array([[1,2],[3,4]],dtype = 'int32')\n",
    "test"
   ]
  },
  {
   "cell_type": "code",
   "execution_count": null,
   "id": "7fe6ae03",
   "metadata": {},
   "outputs": [],
   "source": [
    "test[0]=[3.14,2.0001]"
   ]
  },
  {
   "cell_type": "code",
   "execution_count": null,
   "id": "d3186a41",
   "metadata": {},
   "outputs": [],
   "source": [
    "test"
   ]
  },
  {
   "cell_type": "code",
   "execution_count": null,
   "id": "df81e8ab",
   "metadata": {},
   "outputs": [],
   "source": [
    "test = np.append(test,[3.14,2.0001])"
   ]
  },
  {
   "cell_type": "code",
   "execution_count": null,
   "id": "c4242929",
   "metadata": {},
   "outputs": [],
   "source": [
    "test"
   ]
  },
  {
   "cell_type": "code",
   "execution_count": null,
   "id": "a15758ee",
   "metadata": {},
   "outputs": [],
   "source": [
    "test.dtype"
   ]
  },
  {
   "cell_type": "code",
   "execution_count": null,
   "id": "6ee03f6f",
   "metadata": {},
   "outputs": [],
   "source": [
    "test.nbytes"
   ]
  },
  {
   "cell_type": "code",
   "execution_count": null,
   "id": "2483960a",
   "metadata": {},
   "outputs": [],
   "source": [
    "np.fromfunction(lambda i, j: i + j, (3, 3), dtype=int) #элементы зависят от индекса"
   ]
  },
  {
   "cell_type": "code",
   "execution_count": null,
   "id": "a81484e3",
   "metadata": {},
   "outputs": [],
   "source": [
    "np.zeros_like(test)"
   ]
  },
  {
   "cell_type": "markdown",
   "id": "402704fb",
   "metadata": {},
   "source": [
    "**Доступ к элементам массива**"
   ]
  },
  {
   "cell_type": "code",
   "execution_count": null,
   "id": "0ba425d6",
   "metadata": {},
   "outputs": [],
   "source": [
    "x1 = np.random.randint(10, size=6)  \n",
    "x2 = np.random.randint(10, size=(3, 4))  \n",
    "x3 = np.random.randint(10, size=(3, 4, 5))  "
   ]
  },
  {
   "cell_type": "code",
   "execution_count": null,
   "id": "708a94df",
   "metadata": {},
   "outputs": [],
   "source": [
    "x1"
   ]
  },
  {
   "cell_type": "code",
   "execution_count": null,
   "id": "982e1e35",
   "metadata": {},
   "outputs": [],
   "source": [
    "x2"
   ]
  },
  {
   "cell_type": "code",
   "execution_count": null,
   "id": "78b57b52",
   "metadata": {},
   "outputs": [],
   "source": [
    "x3"
   ]
  },
  {
   "cell_type": "code",
   "execution_count": null,
   "id": "21ad96b4",
   "metadata": {},
   "outputs": [],
   "source": [
    "x1[0]"
   ]
  },
  {
   "cell_type": "code",
   "execution_count": null,
   "id": "c5cd2cd0",
   "metadata": {},
   "outputs": [],
   "source": [
    "x1[-1]"
   ]
  },
  {
   "cell_type": "code",
   "execution_count": null,
   "id": "a2a21d99",
   "metadata": {},
   "outputs": [],
   "source": [
    "x2"
   ]
  },
  {
   "cell_type": "code",
   "execution_count": null,
   "id": "0ec83b80",
   "metadata": {},
   "outputs": [],
   "source": [
    "x2[0,1]"
   ]
  },
  {
   "cell_type": "code",
   "execution_count": null,
   "id": "599b0db6",
   "metadata": {},
   "outputs": [],
   "source": [
    "x2[0,-1]"
   ]
  },
  {
   "cell_type": "code",
   "execution_count": null,
   "id": "91f4720f",
   "metadata": {},
   "outputs": [],
   "source": [
    "x1"
   ]
  },
  {
   "cell_type": "code",
   "execution_count": null,
   "id": "f1b24ff8",
   "metadata": {},
   "outputs": [],
   "source": [
    "# x[start:stop:step]\n",
    "x1[1:-1:2]"
   ]
  },
  {
   "cell_type": "code",
   "execution_count": null,
   "id": "ecd0c090",
   "metadata": {},
   "outputs": [],
   "source": [
    "x1[:5]"
   ]
  },
  {
   "cell_type": "code",
   "execution_count": null,
   "id": "7556c785",
   "metadata": {},
   "outputs": [],
   "source": [
    "x1[::2]"
   ]
  },
  {
   "cell_type": "code",
   "execution_count": null,
   "id": "ecebc759",
   "metadata": {},
   "outputs": [],
   "source": [
    "x1[::-1] # разворот"
   ]
  },
  {
   "cell_type": "code",
   "execution_count": null,
   "id": "691a3505",
   "metadata": {},
   "outputs": [],
   "source": [
    "x2"
   ]
  },
  {
   "cell_type": "code",
   "execution_count": null,
   "id": "e6f1c88c",
   "metadata": {},
   "outputs": [],
   "source": [
    "x2[:2,:2]"
   ]
  },
  {
   "cell_type": "code",
   "execution_count": null,
   "id": "210da55e",
   "metadata": {},
   "outputs": [],
   "source": [
    "x2[:,::-1]"
   ]
  },
  {
   "cell_type": "code",
   "execution_count": null,
   "id": "3adb41fc",
   "metadata": {},
   "outputs": [],
   "source": [
    "x2[:,[3,2,1]]"
   ]
  },
  {
   "cell_type": "code",
   "execution_count": null,
   "id": "c165e2a9",
   "metadata": {},
   "outputs": [],
   "source": [
    "x2[:,2] #столбец"
   ]
  },
  {
   "cell_type": "code",
   "execution_count": null,
   "id": "cd99d0e6",
   "metadata": {},
   "outputs": [],
   "source": [
    "x2[2,:] #строка"
   ]
  },
  {
   "cell_type": "code",
   "execution_count": null,
   "id": "a9bac177",
   "metadata": {},
   "outputs": [],
   "source": [
    "x2_child = x2[2,:] # подмассив"
   ]
  },
  {
   "cell_type": "code",
   "execution_count": null,
   "id": "9e199a73",
   "metadata": {},
   "outputs": [],
   "source": [
    "x2_child[0] = 2023"
   ]
  },
  {
   "cell_type": "code",
   "execution_count": null,
   "id": "203a4c18",
   "metadata": {},
   "outputs": [],
   "source": [
    "x2_child"
   ]
  },
  {
   "cell_type": "code",
   "execution_count": null,
   "id": "70fa49b7",
   "metadata": {},
   "outputs": [],
   "source": [
    "x2"
   ]
  },
  {
   "cell_type": "code",
   "execution_count": null,
   "id": "7a8eaa1f",
   "metadata": {},
   "outputs": [],
   "source": [
    "x2_grownup_child = x2[0,:].copy() # копия для разрыва связи с базовым массивом"
   ]
  },
  {
   "cell_type": "code",
   "execution_count": null,
   "id": "4d3ff5a8",
   "metadata": {},
   "outputs": [],
   "source": [
    "x2_grownup_child"
   ]
  },
  {
   "cell_type": "code",
   "execution_count": null,
   "id": "5048c813",
   "metadata": {},
   "outputs": [],
   "source": [
    "x2_grownup_child[0] = 2023"
   ]
  },
  {
   "cell_type": "code",
   "execution_count": null,
   "id": "b1937ac6",
   "metadata": {},
   "outputs": [],
   "source": [
    "x2_grownup_child"
   ]
  },
  {
   "cell_type": "code",
   "execution_count": null,
   "id": "6341435b",
   "metadata": {},
   "outputs": [],
   "source": [
    "x2"
   ]
  },
  {
   "cell_type": "markdown",
   "id": "fdef8bc6",
   "metadata": {},
   "source": [
    "**Изменение структуры массива**"
   ]
  },
  {
   "cell_type": "code",
   "execution_count": null,
   "id": "9a00bed6",
   "metadata": {},
   "outputs": [],
   "source": [
    "grid = np.arange(1, 10).reshape(3, 3) #создаём массив потом меняем его форму\n",
    "print(grid)"
   ]
  },
  {
   "cell_type": "code",
   "execution_count": null,
   "id": "2d6254c5",
   "metadata": {
    "scrolled": true
   },
   "outputs": [],
   "source": [
    "np.arange(1, 10).reshape(3, 2)"
   ]
  },
  {
   "cell_type": "code",
   "execution_count": null,
   "id": "2de2cc8f",
   "metadata": {},
   "outputs": [],
   "source": [
    "x = np.array([1, 2, 3])\n",
    "x.reshape((1, 3)) "
   ]
  },
  {
   "cell_type": "code",
   "execution_count": null,
   "id": "08db440d",
   "metadata": {},
   "outputs": [],
   "source": [
    "x.reshape((3, 1)) "
   ]
  },
  {
   "cell_type": "code",
   "execution_count": null,
   "id": "84a8ed07",
   "metadata": {},
   "outputs": [],
   "source": [
    "x[np.newaxis,:]"
   ]
  },
  {
   "cell_type": "code",
   "execution_count": null,
   "id": "ae2cef61",
   "metadata": {},
   "outputs": [],
   "source": [
    "x = np.array([1, 2, 3])\n",
    "y = np.array([3, 2, 1])\n",
    "np.concatenate([x, y])"
   ]
  },
  {
   "cell_type": "code",
   "execution_count": null,
   "id": "35af2ebe",
   "metadata": {},
   "outputs": [],
   "source": [
    "z = np.array([99, 99, 99])\n",
    "print(np.concatenate([x, y, z]))"
   ]
  },
  {
   "cell_type": "code",
   "execution_count": null,
   "id": "bad2b508",
   "metadata": {},
   "outputs": [],
   "source": [
    "grid1 = np.array([[1, 2, 3],\n",
    "                 [4, 5, 6]])"
   ]
  },
  {
   "cell_type": "code",
   "execution_count": null,
   "id": "fd9b9691",
   "metadata": {},
   "outputs": [],
   "source": [
    "grid2 = np.zeros((2,3))\n",
    "grid2"
   ]
  },
  {
   "cell_type": "code",
   "execution_count": null,
   "id": "d292bfcb",
   "metadata": {},
   "outputs": [],
   "source": [
    "np.concatenate([grid1, grid2]) # конкатенация по 1 - ому измерению"
   ]
  },
  {
   "cell_type": "code",
   "execution_count": null,
   "id": "15eebaf5",
   "metadata": {},
   "outputs": [],
   "source": [
    "np.concatenate([grid1, grid2],axis = 1) # конкатенация по 2 - ому измерению"
   ]
  },
  {
   "cell_type": "code",
   "execution_count": null,
   "id": "632b6dbe",
   "metadata": {},
   "outputs": [],
   "source": [
    "np.vstack([grid1, grid2])"
   ]
  },
  {
   "cell_type": "code",
   "execution_count": null,
   "id": "b15d6b56",
   "metadata": {},
   "outputs": [],
   "source": [
    "np.hstack([grid1, grid2])"
   ]
  },
  {
   "cell_type": "code",
   "execution_count": null,
   "id": "37b46913",
   "metadata": {},
   "outputs": [],
   "source": [
    "x = np.array([1, 2, 3, 99, 99, 3, 2, 1])\n",
    "np.split(x, 4) # разделение массива"
   ]
  },
  {
   "cell_type": "code",
   "execution_count": null,
   "id": "e57e37ef",
   "metadata": {},
   "outputs": [],
   "source": [
    "np.split(x,[3,5])"
   ]
  },
  {
   "cell_type": "code",
   "execution_count": null,
   "id": "4bbe52d9",
   "metadata": {},
   "outputs": [],
   "source": [
    "grid = np.arange(16).reshape((4, 4))\n",
    "grid"
   ]
  },
  {
   "cell_type": "code",
   "execution_count": null,
   "id": "6ddcc00a",
   "metadata": {},
   "outputs": [],
   "source": [
    "upper, lower = np.vsplit(grid, [2])\n",
    "print(upper)\n",
    "print(lower)"
   ]
  },
  {
   "cell_type": "code",
   "execution_count": null,
   "id": "2aad96a6",
   "metadata": {},
   "outputs": [],
   "source": [
    "left, right = np.hsplit(grid, [2])\n",
    "print(left)\n",
    "print(right)"
   ]
  },
  {
   "attachments": {
    "%D0%B8%D0%B7%D0%BE%D0%B1%D1%80%D0%B0%D0%B6%D0%B5%D0%BD%D0%B8%D0%B5.png": {
     "image/png": "[encoded data removed]"
    }
   },
   "cell_type": "markdown",
   "id": "fb4883cb",
   "metadata": {},
   "source": [
    "<font color = 'red' size = 5>Задание 1 </font>\n",
    "\n",
    "1. Изучите иструменты для создания массивов библиотеки numpy.Используя возможности библиотеки (без циклов) выполните следующие задания.\n",
    "2. Реализуйте функцию для создания \"шахматной\" квадратной двоичной матрицы произвольного размера.\n",
    "![%D0%B8%D0%B7%D0%BE%D0%B1%D1%80%D0%B0%D0%B6%D0%B5%D0%BD%D0%B8%D0%B5.png](attachment:%D0%B8%D0%B7%D0%BE%D0%B1%D1%80%D0%B0%D0%B6%D0%B5%D0%BD%D0%B8%D0%B5.png)\n",
    "3. Реализуйте функцию для создания матрицы для сетки координа x и y, покрывающими область [0,1] x [0,1] на плоскости. На вход функция принимает количество точек сетки.\n",
    "4. Реализуйте функцию, которая генерирует классическую матрицу судоку заполненную полностью или частично.\n"
   ]
  },
  {
   "cell_type": "markdown",
   "id": "425d3cf0",
   "metadata": {},
   "source": [
    "## <font color = 'green'> 2. Библиотека numpy. Вычисления.  </font>"
   ]
  },
  {
   "cell_type": "markdown",
   "id": "fd15d030",
   "metadata": {},
   "source": [
    "**Векторизация**"
   ]
  },
  {
   "cell_type": "code",
   "execution_count": null,
   "id": "406a1b76",
   "metadata": {},
   "outputs": [],
   "source": [
    "big_array = np.random.randint(1,100,1000000)"
   ]
  },
  {
   "cell_type": "code",
   "execution_count": null,
   "id": "7ce81637",
   "metadata": {},
   "outputs": [],
   "source": [
    "1/big_array"
   ]
  },
  {
   "cell_type": "code",
   "execution_count": null,
   "id": "220fa5fd",
   "metadata": {},
   "outputs": [],
   "source": [
    "%timeit 1/big_array"
   ]
  },
  {
   "cell_type": "code",
   "execution_count": null,
   "id": "48081c24",
   "metadata": {},
   "outputs": [],
   "source": [
    "np.arange(5) / np.arange(1, 6)"
   ]
  },
  {
   "cell_type": "code",
   "execution_count": null,
   "id": "9acb692d",
   "metadata": {},
   "outputs": [],
   "source": [
    "2*np.arange(5) "
   ]
  },
  {
   "cell_type": "code",
   "execution_count": null,
   "id": "ccf463ad",
   "metadata": {},
   "outputs": [],
   "source": [
    "x = np.arange(9).reshape((3, 3))\n",
    "2 ** x"
   ]
  },
  {
   "cell_type": "code",
   "execution_count": null,
   "id": "b2ced406",
   "metadata": {},
   "outputs": [],
   "source": [
    "x"
   ]
  },
  {
   "cell_type": "code",
   "execution_count": null,
   "id": "1056b681",
   "metadata": {
    "scrolled": true
   },
   "outputs": [],
   "source": [
    "x**x"
   ]
  },
  {
   "cell_type": "code",
   "execution_count": null,
   "id": "1ee096cc",
   "metadata": {},
   "outputs": [],
   "source": [
    "x = np.arange(4)\n",
    "print(\"x      =\", x)\n",
    "print(\"x + 5  =\", x + 5)\n",
    "print(\"x - 5  =\", x - 5)\n",
    "print(\"x * 2  =\", x * 2)\n",
    "print(\"x / 2  =\", x / 2)\n",
    "print(\"x // 2 =\", x // 2)\n",
    "print(\"-x     = \", -x)\n",
    "print(\"x ** 2 = \", x ** 2)\n",
    "print(\"x % 2  = \", x % 2)"
   ]
  },
  {
   "cell_type": "code",
   "execution_count": null,
   "id": "69fc49de",
   "metadata": {},
   "outputs": [],
   "source": [
    "x = [1, 2, 4, 10]\n",
    "print(\"x        =\", x)\n",
    "print(\"ln(x)    =\", np.log(x))\n",
    "print(\"log2(x)  =\", np.log2(x))\n",
    "print(\"log10(x) =\", np.log10(x)) # куча математических функций и все с векторизацией"
   ]
  },
  {
   "cell_type": "code",
   "execution_count": null,
   "id": "2b8bde1a",
   "metadata": {},
   "outputs": [],
   "source": [
    "x = np.arange(1, 6)\n",
    "np.add.reduce(x)"
   ]
  },
  {
   "cell_type": "code",
   "execution_count": null,
   "id": "59b05363",
   "metadata": {},
   "outputs": [],
   "source": [
    "np.multiply.reduce(x)"
   ]
  },
  {
   "cell_type": "code",
   "execution_count": null,
   "id": "2bacf796",
   "metadata": {},
   "outputs": [],
   "source": [
    "x = np.arange(1, 6)\n",
    "np.add.accumulate(x)"
   ]
  },
  {
   "cell_type": "code",
   "execution_count": null,
   "id": "82cae2b0",
   "metadata": {},
   "outputs": [],
   "source": [
    "np.multiply.accumulate(x)"
   ]
  },
  {
   "cell_type": "code",
   "execution_count": null,
   "id": "585cd33a",
   "metadata": {},
   "outputs": [],
   "source": [
    "big_array = np.random.random(1000000)\n",
    "%timeit sum(big_array)\n",
    "%timeit np.sum(big_array)"
   ]
  },
  {
   "cell_type": "code",
   "execution_count": null,
   "id": "62990936",
   "metadata": {},
   "outputs": [],
   "source": [
    "np.min(big_array), np.max(big_array)"
   ]
  },
  {
   "cell_type": "code",
   "execution_count": null,
   "id": "f63af87d",
   "metadata": {},
   "outputs": [],
   "source": [
    "test= np.random.randint(100,size=(10,10))\n",
    "test"
   ]
  },
  {
   "cell_type": "code",
   "execution_count": null,
   "id": "843befdb",
   "metadata": {},
   "outputs": [],
   "source": [
    "test.min(axis=0) # минимум по столбцам"
   ]
  },
  {
   "cell_type": "markdown",
   "id": "9966bb25",
   "metadata": {},
   "source": [
    "**Операции с массивами и матрицами**"
   ]
  },
  {
   "cell_type": "code",
   "execution_count": null,
   "id": "8a2d5e04",
   "metadata": {},
   "outputs": [],
   "source": [
    "a = np.array([0, 1, 2])\n",
    "b = np.array([5, 5, 5])\n",
    "a + b\n",
    "\n"
   ]
  },
  {
   "cell_type": "code",
   "execution_count": null,
   "id": "b6c148da",
   "metadata": {},
   "outputs": [],
   "source": [
    "M = np.ones((3, 3))\n",
    "M"
   ]
  },
  {
   "cell_type": "code",
   "execution_count": null,
   "id": "9fcc0058",
   "metadata": {},
   "outputs": [],
   "source": [
    "M + a # numpy array broadcasting"
   ]
  },
  {
   "cell_type": "code",
   "execution_count": null,
   "id": "b5f9ef40",
   "metadata": {},
   "outputs": [],
   "source": [
    "a = np.arange(3)\n",
    "b = np.arange(3)[:, np.newaxis]\n",
    "\n",
    "print(a)\n",
    "print(b)"
   ]
  },
  {
   "cell_type": "code",
   "execution_count": null,
   "id": "c1aa98f7",
   "metadata": {},
   "outputs": [],
   "source": [
    "a + b"
   ]
  },
  {
   "cell_type": "code",
   "execution_count": null,
   "id": "b90c93fe",
   "metadata": {},
   "outputs": [],
   "source": [
    "np.repeat([a],3,axis=0)"
   ]
  },
  {
   "cell_type": "code",
   "execution_count": null,
   "id": "6855ae42",
   "metadata": {},
   "outputs": [],
   "source": [
    "np.repeat(b,3,axis=1)"
   ]
  },
  {
   "cell_type": "code",
   "execution_count": null,
   "id": "7ebee9c4",
   "metadata": {
    "scrolled": true
   },
   "outputs": [],
   "source": [
    "(np.repeat(b,3,axis=1) + np.repeat([a],3,axis=0), a + b)"
   ]
  },
  {
   "cell_type": "code",
   "execution_count": null,
   "id": "af1e4ce3",
   "metadata": {},
   "outputs": [],
   "source": [
    "M = np.ones((3, 2))\n",
    "a = np.arange(3)"
   ]
  },
  {
   "cell_type": "code",
   "execution_count": null,
   "id": "67112d2d",
   "metadata": {},
   "outputs": [],
   "source": [
    "a"
   ]
  },
  {
   "cell_type": "code",
   "execution_count": null,
   "id": "71ab4001",
   "metadata": {
    "scrolled": true
   },
   "outputs": [],
   "source": [
    "M"
   ]
  },
  {
   "cell_type": "code",
   "execution_count": null,
   "id": "9a411b41",
   "metadata": {},
   "outputs": [],
   "source": [
    "M+ a"
   ]
  },
  {
   "cell_type": "code",
   "execution_count": null,
   "id": "01af533f",
   "metadata": {},
   "outputs": [],
   "source": [
    "a = np.array([4,5,6,7])  \n",
    "b = np.array([1,3,5,7,9,11,14,10])  \n",
    "c = a+b;  "
   ]
  },
  {
   "cell_type": "code",
   "execution_count": null,
   "id": "f3e789ba",
   "metadata": {},
   "outputs": [],
   "source": [
    "matrix1 = np.array([[1, 3], [5, 7]])\n",
    "             \n",
    "matrix2 = np.array([[2, 6], [4, 8]])\n",
    "\n",
    "result = np.dot(matrix1, matrix2)\n",
    "\n",
    "print(\"matrix1 x matrix2: \\n\",result)"
   ]
  },
  {
   "cell_type": "code",
   "execution_count": null,
   "id": "b5e91a4e",
   "metadata": {},
   "outputs": [],
   "source": [
    "matrix1 = np.random.randint(10,size=(3,2))\n",
    "matrix1"
   ]
  },
  {
   "cell_type": "code",
   "execution_count": null,
   "id": "6b904f4e",
   "metadata": {},
   "outputs": [],
   "source": [
    "matrix2 = np.random.randint(10,size=(2,3))\n",
    "matrix2"
   ]
  },
  {
   "cell_type": "code",
   "execution_count": null,
   "id": "7cfd6b66",
   "metadata": {},
   "outputs": [],
   "source": [
    "np.dot(matrix1,matrix2)"
   ]
  },
  {
   "cell_type": "code",
   "execution_count": null,
   "id": "123fe78e",
   "metadata": {},
   "outputs": [],
   "source": [
    "np.dot(matrix2,matrix1)"
   ]
  },
  {
   "cell_type": "code",
   "execution_count": null,
   "id": "52505092",
   "metadata": {},
   "outputs": [],
   "source": [
    "np.dot(matrix1,matrix1)"
   ]
  },
  {
   "cell_type": "code",
   "execution_count": null,
   "id": "306a9483",
   "metadata": {},
   "outputs": [],
   "source": [
    "matrix1=np.array([1,2,3])"
   ]
  },
  {
   "cell_type": "code",
   "execution_count": null,
   "id": "9bd5ac66",
   "metadata": {},
   "outputs": [],
   "source": [
    "matrix2 = np.random.randint(10,size=(3,3))"
   ]
  },
  {
   "cell_type": "code",
   "execution_count": null,
   "id": "deb482a1",
   "metadata": {},
   "outputs": [],
   "source": [
    "np.dot(matrix2,matrix1)"
   ]
  },
  {
   "cell_type": "code",
   "execution_count": null,
   "id": "6ed34763",
   "metadata": {
    "scrolled": true
   },
   "outputs": [],
   "source": [
    "np.matmul(matrix2,matrix1)"
   ]
  },
  {
   "cell_type": "code",
   "execution_count": null,
   "id": "21fbe4a4",
   "metadata": {},
   "outputs": [],
   "source": [
    "matrix1"
   ]
  },
  {
   "cell_type": "code",
   "execution_count": null,
   "id": "0ed4c1fb",
   "metadata": {},
   "outputs": [],
   "source": [
    "np.multiply(matrix1,matrix1)"
   ]
  },
  {
   "cell_type": "code",
   "execution_count": null,
   "id": "92ec53b4",
   "metadata": {},
   "outputs": [],
   "source": [
    "matrix1 = np.array([[1, 3], [5, 7]])"
   ]
  },
  {
   "cell_type": "code",
   "execution_count": null,
   "id": "0dd6506b",
   "metadata": {
    "scrolled": true
   },
   "outputs": [],
   "source": [
    "matrix1 - matrix1 "
   ]
  },
  {
   "cell_type": "code",
   "execution_count": null,
   "id": "bd360ec5",
   "metadata": {},
   "outputs": [],
   "source": [
    "matrix1 = matrix1 + matrix1\n",
    "matrix1"
   ]
  },
  {
   "cell_type": "code",
   "execution_count": null,
   "id": "3901538c",
   "metadata": {},
   "outputs": [],
   "source": [
    "np.add(matrix1,matrix1,out=matrix1)\n",
    "matrix1"
   ]
  },
  {
   "cell_type": "code",
   "execution_count": null,
   "id": "c2e03766",
   "metadata": {},
   "outputs": [],
   "source": [
    "matrix1.T"
   ]
  },
  {
   "cell_type": "code",
   "execution_count": null,
   "id": "dd15a2b8",
   "metadata": {},
   "outputs": [],
   "source": [
    "np.linalg.det(matrix1)"
   ]
  },
  {
   "cell_type": "code",
   "execution_count": null,
   "id": "4b8e73f8",
   "metadata": {},
   "outputs": [],
   "source": [
    "np.linalg.inv(matrix1)"
   ]
  },
  {
   "cell_type": "code",
   "execution_count": null,
   "id": "297ba019",
   "metadata": {},
   "outputs": [],
   "source": [
    "np.dot(matrix1, np.linalg.inv(matrix1)).astype(int)"
   ]
  },
  {
   "cell_type": "markdown",
   "id": "eab7e03a",
   "metadata": {},
   "source": [
    "**Булевы операции**"
   ]
  },
  {
   "cell_type": "code",
   "execution_count": null,
   "id": "a7e136e3",
   "metadata": {},
   "outputs": [],
   "source": [
    "x"
   ]
  },
  {
   "cell_type": "code",
   "execution_count": null,
   "id": "0ad0d270",
   "metadata": {},
   "outputs": [],
   "source": [
    "x>2"
   ]
  },
  {
   "cell_type": "code",
   "execution_count": null,
   "id": "a96e92f4",
   "metadata": {},
   "outputs": [],
   "source": [
    "x[x>2]=0"
   ]
  },
  {
   "cell_type": "code",
   "execution_count": null,
   "id": "05aef8f8",
   "metadata": {},
   "outputs": [],
   "source": [
    "x"
   ]
  },
  {
   "cell_type": "code",
   "execution_count": null,
   "id": "41231176",
   "metadata": {},
   "outputs": [],
   "source": [
    "np.any(x==0)"
   ]
  },
  {
   "cell_type": "code",
   "execution_count": null,
   "id": "d5fe8615",
   "metadata": {},
   "outputs": [],
   "source": [
    "np.all(x==0)"
   ]
  },
  {
   "cell_type": "code",
   "execution_count": null,
   "id": "a8fde226",
   "metadata": {},
   "outputs": [],
   "source": [
    "np.sum(x>1)"
   ]
  },
  {
   "cell_type": "code",
   "execution_count": null,
   "id": "55ca6c9f",
   "metadata": {},
   "outputs": [],
   "source": [
    "np.sum(x[x>1])"
   ]
  },
  {
   "cell_type": "code",
   "execution_count": null,
   "id": "e51fbb7b",
   "metadata": {},
   "outputs": [],
   "source": [
    "matrix1"
   ]
  },
  {
   "cell_type": "code",
   "execution_count": null,
   "id": "3d4449a0",
   "metadata": {},
   "outputs": [],
   "source": [
    "np.where(matrix1 == 3)"
   ]
  },
  {
   "cell_type": "code",
   "execution_count": null,
   "id": "07b068ab",
   "metadata": {},
   "outputs": [],
   "source": [
    "Z = np.random.randint(1,10, 10)\n",
    "print(Z)\n",
    "\n",
    "Z[Z.argmax()] = 0\n",
    "print(Z)"
   ]
  },
  {
   "cell_type": "code",
   "execution_count": null,
   "id": "a54b2dc3",
   "metadata": {},
   "outputs": [],
   "source": [
    "Z.argmin()"
   ]
  },
  {
   "attachments": {
    "%D0%B8%D0%B7%D0%BE%D0%B1%D1%80%D0%B0%D0%B6%D0%B5%D0%BD%D0%B8%D0%B5.png": {
     "image/png": "[encoded data removed]"
    }
   },
   "cell_type": "markdown",
   "id": "e004ed3a",
   "metadata": {},
   "source": [
    "<font color = 'red' size = 5>Задание 2 </font>\n",
    "\n",
    "Используя векторизацию и матричные вычисления выполните задачи.\n",
    "\n",
    "1. Реализуйте учебную модель [Игры \"Жизнь\"](https://en.wikipedia.org/wiki/Conway%27s_Game_of_Life). Создайте также динамическое изображение.\n",
    "![%D0%B8%D0%B7%D0%BE%D0%B1%D1%80%D0%B0%D0%B6%D0%B5%D0%BD%D0%B8%D0%B5.png](attachment:%D0%B8%D0%B7%D0%BE%D0%B1%D1%80%D0%B0%D0%B6%D0%B5%D0%BD%D0%B8%D0%B5.png)\n",
    "\n",
    "2. Реализуйте [расширенный алгоритм Евклида](https://en.wikipedia.org/wiki/Extended_Euclidean_algorithm) в матричном виде. Протестируйте как устроены типы данных в numpy? Возможно ли, что на некоторых значенияъ алгоритм откажется работать правильно?\n",
    "   \n",
    "3. Усложнённое задание: Расширенная игра \"Жизнь\"\n",
    "\n",
    "Описание задачи:\n",
    "\n",
    "    Создайте начальную случайную матрицу размером 50x50 с клетками, представляющими состояние \"живая\" или \"мёртвая\" (0 или 1).\n",
    "\n",
    "    Внедрите следующие дополнительные правила:\n",
    "        \n",
    "        Время жизни: Каждая живая клетка будет иметь счётчик времени жизни. Если клетка жива больше определённого количества поколений (например, 5), она умирает.\n",
    "        Мутанты: В случайные моменты времени появляются \"мутанты\" (клетки, которые могут быть либо живыми, либо мёртвыми, и они могут изменять состояния соседних клеток)."
   ]
  },
  {
   "cell_type": "markdown",
   "id": "fc8f15ba",
   "metadata": {},
   "source": [
    "## <font color = 'green'> 3. Простейшая лин. регрессия  </font>"
   ]
  },
  {
   "cell_type": "markdown",
   "id": "9bd30ec5",
   "metadata": {},
   "source": [
    "<font color = 'red' size = 5>Задание 3 </font>\n",
    "\n",
    "Модель линейной регрессии в самом простом виде предполагает следующее.\n",
    "\n",
    "Пусть заданы два набора числовых данных $X=\\{x_1,x_2,...x_k\\}$ и $Y=\\{y_1,y_2,...y_k\\}$. Необходимо по известным данным отыскать такую функцию вида $f(x) = a*x +b $ максимально описывающую зависимость представителей набора $Y$ от представителей набора $X$.\n",
    "\n",
    "Задача обучения в данном случае состоит в нахождении коэффициентов $a$ и $b$ таких, чтобы минимизировать значение квадратичной ошибки $SSE(a,b) = \\displaystyle\\sum_{i=1}^{k}(y_i - f(x_i))^2$ на исходных данных. \n",
    "\n",
    "Разрешив полученную задачу оптимизации можно получить формулы для коэффициентов $a$ и $b$.\n",
    "\n",
    "$$a = \\frac{\\displaystyle\\sum_{i=1}^{k}(x_k - \\overline{x})(y_k - \\overline{y})}{\\displaystyle\\sum_{i=1}^{k}(x_k - \\overline{x})^2}$$\n",
    "\n",
    "$$b = \\overline{y}- a \\overline{x} $$\n",
    "\n",
    "Полученные формулы можно представить в **матричном виде**, если записать исходные данные в вектор столбцы или вектор строки. \n",
    "\n",
    "\n",
    "1. Преобразуйте формулы для коэффициентов регрессии в матричный вид и запишите их.\n",
    "2. Релиазуйте собственную модель линейной регрессии используя возможности numpy b формулы из п 1. На вход модель принимает набор $X$ и $Y$, а возвращает коэффициенты $a$ и $b$. Используйте векторизацию! \n",
    "3. Проверьте правильность модели с помощью рисунка и аналитически.\n",
    "4. Сверьте полученные данные с встроенным классом библиотеки sklearn.\n",
    "5. Протестируйте полученную вами модель на [реальных данных](https://www.kaggle.com/datasets/andonians/random-linear-regression).\n",
    "\n",
    "Указание! Для оценки качества модели, в случае, если рисунок не возможен используйте [коэффициент детерминации](https://wiki.loginom.ru/articles/coefficient-of-determination.html): $$R^{2}=1-\\frac{(\\overline{y} -f(\\overline{x}))(\\overline{y} - f(\\overline{x}))^{T}}{(\\overline{y} - mean(\\overline{y}))(\\overline{y} - mean(\\overline{y}))^{T}},$$"
   ]
  },
  {
   "cell_type": "code",
   "execution_count": null,
   "id": "20674414",
   "metadata": {},
   "outputs": [],
   "source": [
    "rng = np.random\n",
    "x = 10 * rng.rand(50)\n",
    "y = 2 * x - 1 + rng.randn(50)\n",
    "plt.scatter(x, y);"
   ]
  },
  {
   "cell_type": "code",
   "execution_count": null,
   "id": "551a1195",
   "metadata": {},
   "outputs": [],
   "source": [
    "x"
   ]
  },
  {
   "cell_type": "code",
   "execution_count": null,
   "id": "22eb1199",
   "metadata": {},
   "outputs": [],
   "source": [
    "y"
   ]
  },
  {
   "cell_type": "code",
   "execution_count": null,
   "id": "6d9f5622",
   "metadata": {},
   "outputs": [],
   "source": [
    "from sklearn.linear_model import LinearRegression\n",
    "model = LinearRegression(fit_intercept=True)\n",
    "model"
   ]
  },
  {
   "cell_type": "code",
   "execution_count": null,
   "id": "9f0fef39",
   "metadata": {},
   "outputs": [],
   "source": [
    "X = x[:, np.newaxis]\n",
    "(X.shape,x.shape)"
   ]
  },
  {
   "cell_type": "code",
   "execution_count": null,
   "id": "7c167936",
   "metadata": {},
   "outputs": [],
   "source": [
    "X"
   ]
  },
  {
   "cell_type": "code",
   "execution_count": null,
   "id": "f8a8e440",
   "metadata": {},
   "outputs": [],
   "source": [
    "model.fit(X, y)"
   ]
  },
  {
   "cell_type": "code",
   "execution_count": null,
   "id": "6aca349e",
   "metadata": {},
   "outputs": [],
   "source": [
    "(model.coef_, model.intercept_)"
   ]
  },
  {
   "cell_type": "code",
   "execution_count": null,
   "id": "f36cb81c",
   "metadata": {},
   "outputs": [],
   "source": [
    "model.score(X,y)"
   ]
  }
 ],
 "metadata": {
  "kernelspec": {
   "display_name": "Python 3 (ipykernel)",
   "language": "python",
   "name": "python3"
  },
  "language_info": {
   "codemirror_mode": {
    "name": "ipython",
    "version": 3
   },
   "file_extension": ".py",
   "mimetype": "text/x-python",
   "name": "python",
   "nbconvert_exporter": "python",
   "pygments_lexer": "ipython3",
   "version": "3.12.4"
  }
 },
 "nbformat": 4,
 "nbformat_minor": 5
}
