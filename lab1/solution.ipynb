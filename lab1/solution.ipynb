{
 "cells": [
  {
   "attachments": {},
   "cell_type": "markdown",
   "metadata": {},
   "source": [
    "# <font color = 'red'> ЛР 1. Введение. Инструменты python для базовых задач МО. </font>"
   ]
  },
  {
   "cell_type": "code",
   "execution_count": 11,
   "metadata": {},
   "outputs": [],
   "source": [
    "import numpy as np\n",
    "import sympy as sp\n",
    "import random\n",
    "import math\n",
    "import csv\n",
    "import matplotlib.pyplot as plt\n",
    "import matplotlib.animation as animation\n",
    "from sklearn.linear_model import LinearRegression"
   ]
  },
  {
   "attachments": {},
   "cell_type": "markdown",
   "metadata": {},
   "source": [
    "## <font color = 'red' size = 5>Задание 1 </font>\n",
    "\n",
    "1. Изучите иструменты для создания массивов библиотеки numpy.Используя возможности библиотеки (без циклов) выполните следующие задания.\n",
    "2. Реализуйте функцию для создания \"шахматной\" квадратной двоичной матрицы произвольного размера.\n",
    "3. Реализуйте функцию для создания матрицы для сетки координа x и y, покрывающими область [0,1] x [0,1] на плоскости. На вход функция принимает количество точек сетки.\n",
    "4. Реализуйте функцию, которая генерирует классическую матрицу судоку заполненную полностью или частично.\n"
   ]
  },
  {
   "attachments": {},
   "cell_type": "markdown",
   "metadata": {},
   "source": [
    "### 1.1 Ну типа изучил"
   ]
  },
  {
   "attachments": {},
   "cell_type": "markdown",
   "metadata": {},
   "source": [
    "### 1.2 "
   ]
  },
  {
   "cell_type": "code",
   "execution_count": 12,
   "metadata": {},
   "outputs": [],
   "source": [
    "def chess_board(n, start=0):\n",
    "    if start == 0:\n",
    "        board  = np.ones((n, n), dtype=int)\n",
    "        board[0:n:2, 0:n:2] = 0\n",
    "        board[1:n:2, 1:n:2] = 0\n",
    "    else:\n",
    "        board  = np.zeros((n, n), dtype=int)\n",
    "        board[0:n:2, 0:n:2] = 1\n",
    "        board[1:n:2, 1:n:2] = 1\n",
    "    return board"
   ]
  },
  {
   "cell_type": "code",
   "execution_count": 17,
   "metadata": {},
   "outputs": [
    {
     "data": {
      "image/png": "[encoded data removed]",
      "text/plain": [
       "<Figure size 640x480 with 1 Axes>"
      ]
     },
     "metadata": {},
     "output_type": "display_data"
    }
   ],
   "source": [
    "plt.imshow(chess_board(5, start=1), cmap='binary');"
   ]
  },
  {
   "attachments": {},
   "cell_type": "markdown",
   "metadata": {},
   "source": [
    "### 1.3"
   ]
  },
  {
   "cell_type": "code",
   "execution_count": 18,
   "metadata": {},
   "outputs": [],
   "source": [
    "def gen_mesh(points_amount:int):\n",
    "    if sp.isprime(points_amount):\n",
    "        raise ValueError('Невозможно задать сетку так как количество точек - простое число!')\n",
    "    div =  sp.divisors(points_amount)[1:-1]\n",
    "    x_k = div[len(div) // 2]\n",
    "    y_k = points_amount // x_k\n",
    "    # print(x_k,y_k)\n",
    "    x = np.repeat([np.linspace(0, 1, x_k)], y_k, axis=0)\n",
    "    y = np.repeat([np.linspace(0, 1, y_k)], x_k, axis=0)\n",
    "    return x, y.T\n",
    "    "
   ]
  },
  {
   "cell_type": "code",
   "execution_count": 21,
   "metadata": {},
   "outputs": [
    {
     "data": {
      "image/png": "[encoded data removed]",
      "text/plain": [
       "<Figure size 640x480 with 1 Axes>"
      ]
     },
     "metadata": {},
     "output_type": "display_data"
    }
   ],
   "source": [
    "plt.scatter(*gen_mesh(15), marker='o', color='r')\n",
    "plt.show()"
   ]
  },
  {
   "attachments": {},
   "cell_type": "markdown",
   "metadata": {},
   "source": [
    "### 1.4 "
   ]
  },
  {
   "cell_type": "code",
   "execution_count": 22,
   "metadata": {},
   "outputs": [],
   "source": [
    "def generate_base_field():\n",
    "    base_row = np.array(range(1, 10))\n",
    "    amount_rolls =np.concatenate([np.array([-3, -6, -10, -13]), -1 + np.array([-6, -10, -13, -16])])\n",
    "    res = map(lambda x:np.roll(base_row, x), amount_rolls)\n",
    "    return np.vstack([base_row ,np.array(list(res))])\n",
    "\n",
    "\n",
    "\n",
    "def change_rand_rows(matr):\n",
    "    m = matr.copy()\n",
    "    k = random.choice([0, 1, 2])\n",
    "    i = random.choice(range(3 * k, 3 *(k + 1), 1))\n",
    "    while True:\n",
    "        j = random.choice(range(3 * k, 3 * (k + 1), 1))\n",
    "        if j != i:\n",
    "            break\n",
    "    #print(i, j)\n",
    "    row1 = matr[i, :].copy()\n",
    "    row2 = matr[j, :].copy()\n",
    "    m[j] = row1\n",
    "    m[i] = row2\n",
    "    return m\n",
    "\n",
    "\n",
    "\n",
    "def change_rand_columns(matr):\n",
    "    m = matr.copy()\n",
    "    k = random.choice([0, 1, 2])\n",
    "    i = random.choice(range(3 * k, 3 *(k + 1), 1))\n",
    "    while True:\n",
    "        j = random.choice(range(3 * k, 3 * (k + 1), 1))\n",
    "        if j != i:\n",
    "            break\n",
    "    #print(i, j)\n",
    "    row1 = matr[:, i].copy()\n",
    "    row2 = matr[:, j].copy()\n",
    "    m[:, j] = row1\n",
    "    m[:, i] = row2\n",
    "    return m\n",
    "\n",
    "def transport(matr):\n",
    "    return matr.T\n",
    "\n",
    "\n",
    "\n",
    "def change_three_rows(matr):\n",
    "    m = matr.copy()\n",
    "    k1 = random.choice([0, 1, 2])\n",
    "    start1, end1 = 3 * k1, 3 * (k1 + 1)\n",
    "    while True:\n",
    "        k2 =  random.choice([0, 1, 2])\n",
    "        if k2 != k1:\n",
    "            break\n",
    "    #print(k1, k2)\n",
    "    start2, end2 = 3 * k2, 3 * (k2 + 1)\n",
    "    row1 = matr[start1:end1, :].copy()\n",
    "    row2 = matr[start2:end2, :].copy()\n",
    "    m[start2:end2] = row1\n",
    "    m[start1:end1] = row2\n",
    "    return m\n",
    "\n",
    "\n",
    "def change_three_columns(matr):\n",
    "    m = matr.copy()\n",
    "    k1 = random.choice([0, 1, 2])\n",
    "    start1, end1 = 3 * k1, 3 * (k1 + 1)\n",
    "    while True:\n",
    "        k2 =  random.choice([0, 1, 2])\n",
    "        if k2 != k1:\n",
    "            break\n",
    "    #print(k1, k2)\n",
    "    start2, end2 = 3 * k2, 3 * (k2 + 1)\n",
    "    row1 = matr[:, start1:end1].copy()\n",
    "    row2 = matr[:, start2:end2].copy()\n",
    "    m[:, start2:end2] = row1\n",
    "    m[:, start1:end1] = row2\n",
    "    return m\n",
    "\n",
    "\n",
    "def build_full_field(rounds=10):\n",
    "    matr = generate_base_field()\n",
    "    for i in range(rounds):\n",
    "        func = random.choice([transport, change_three_columns, change_three_rows, change_rand_rows, change_rand_columns])\n",
    "        #print(func.__name__)\n",
    "        matr = func(matr).copy()\n",
    "        #print(matr)\n",
    "\n",
    "    return matr\n",
    "    "
   ]
  },
  {
   "cell_type": "code",
   "execution_count": 23,
   "metadata": {},
   "outputs": [
    {
     "data": {
      "text/plain": [
       "array([[3, 6, 9, 4, 7, 1, 2, 8, 5],\n",
       "       [5, 8, 2, 6, 9, 3, 4, 1, 7],\n",
       "       [4, 7, 1, 5, 8, 2, 3, 9, 6],\n",
       "       [7, 1, 4, 8, 2, 5, 6, 3, 9],\n",
       "       [8, 2, 5, 9, 3, 6, 7, 4, 1],\n",
       "       [6, 9, 3, 7, 1, 4, 5, 2, 8],\n",
       "       [1, 4, 7, 2, 5, 8, 9, 6, 3],\n",
       "       [9, 3, 6, 1, 4, 7, 8, 5, 2],\n",
       "       [2, 5, 8, 3, 6, 9, 1, 7, 4]])"
      ]
     },
     "execution_count": 23,
     "metadata": {},
     "output_type": "execute_result"
    }
   ],
   "source": [
    "build_full_field(100)"
   ]
  },
  {
   "attachments": {},
   "cell_type": "markdown",
   "metadata": {},
   "source": [
    "## <font color = 'red' size = 5>Задание 2 </font>\n",
    "\n",
    "Используя векторизацию и матричные вычисления выполните задачи.\n",
    "\n",
    "1. Реализуйте учебную модель [Игры \"Жизнь\"](https://en.wikipedia.org/wiki/Conway%27s_Game_of_Life). Создайте также динамическое изображение.\n",
    "\n",
    "2. Реализуйте [расширенный алгоритм Евклида](https://en.wikipedia.org/wiki/Extended_Euclidean_algorithm) в матричном виде. Протестируйте как устроены типы данных в numpy? Возможно ли, что на некоторых значенияъ алгоритм откажется работать правильно?\n",
    "   \n",
    "3. Усложнённое задание: Расширенная игра \"Жизнь\"\n",
    "\n",
    "Описание задачи:\n",
    "\n",
    "    Создайте начальную случайную матрицу размером 50x50 с клетками, представляющими состояние \"живая\" или \"мёртвая\" (0 или 1).\n",
    "\n",
    "    Внедрите следующие дополнительные правила:\n",
    "        \n",
    "        Время жизни: Каждая живая клетка будет иметь счётчик времени жизни. Если клетка жива больше определённого количества поколений (например, 5), она умирает.\n",
    "        Мутанты: В случайные моменты времени появляются \"мутанты\" (клетки, которые могут быть либо живыми, либо мёртвыми, и они могут изменять состояния соседних клеток)."
   ]
  },
  {
   "attachments": {},
   "cell_type": "markdown",
   "metadata": {},
   "source": [
    "### 2.1"
   ]
  },
  {
   "cell_type": "code",
   "execution_count": 143,
   "metadata": {},
   "outputs": [
    {
     "data": {
      "text/plain": [
       "array([[1, 1, 0, 1, 0],\n",
       "       [1, 1, 0, 0, 1],\n",
       "       [0, 0, 1, 1, 0],\n",
       "       [0, 0, 0, 0, 0],\n",
       "       [1, 1, 0, 0, 0]])"
      ]
     },
     "execution_count": 143,
     "metadata": {},
     "output_type": "execute_result"
    }
   ],
   "source": [
    "size = 5\n",
    "X = np.array(random.choices([0, 1], weights=[0.7, 0.3], k=size**2)).reshape(size, size)\n",
    "X"
   ]
  },
  {
   "cell_type": "code",
   "execution_count": 144,
   "metadata": {},
   "outputs": [
    {
     "name": "stdout",
     "output_type": "stream",
     "text": [
      "[4 0 1 2 3]\n",
      "[1 2 3 4 0]\n"
     ]
    }
   ],
   "source": [
    "n = np.array([size - 1] + list(range(0, size - 1)))\n",
    "print(n)\n",
    "p = np.array(list(range(1, size)) + [0])\n",
    "print(p)"
   ]
  },
  {
   "cell_type": "code",
   "execution_count": 145,
   "metadata": {},
   "outputs": [
    {
     "data": {
      "text/plain": [
       "array([[1, 1, 1, 0, 0],\n",
       "       [0, 0, 0, 1, 1],\n",
       "       [0, 0, 0, 0, 0],\n",
       "       [0, 1, 1, 0, 0],\n",
       "       [0, 1, 1, 0, 1]])"
      ]
     },
     "execution_count": 145,
     "metadata": {},
     "output_type": "execute_result"
    }
   ],
   "source": [
    "X[p][:, n] # нижний левый сосед"
   ]
  },
  {
   "cell_type": "code",
   "execution_count": 146,
   "metadata": {},
   "outputs": [
    {
     "data": {
      "text/plain": [
       "array([[1, 0, 0, 0, 1],\n",
       "       [1, 0, 1, 0, 1],\n",
       "       [1, 0, 0, 1, 1],\n",
       "       [0, 1, 1, 0, 0],\n",
       "       [0, 0, 0, 0, 0]])"
      ]
     },
     "execution_count": 146,
     "metadata": {},
     "output_type": "execute_result"
    }
   ],
   "source": [
    "X[n][:, p] # верхний правый сосед"
   ]
  },
  {
   "cell_type": "code",
   "execution_count": 147,
   "metadata": {},
   "outputs": [
    {
     "data": {
      "text/plain": [
       "array([[1, 0, 0, 1, 1],\n",
       "       [0, 1, 1, 0, 0],\n",
       "       [0, 0, 0, 0, 0],\n",
       "       [1, 0, 0, 0, 1],\n",
       "       [1, 0, 1, 0, 1]])"
      ]
     },
     "execution_count": 147,
     "metadata": {},
     "output_type": "execute_result"
    }
   ],
   "source": [
    "X[p][:, p] # нижний правый сосед"
   ]
  },
  {
   "cell_type": "code",
   "execution_count": 148,
   "metadata": {},
   "outputs": [
    {
     "data": {
      "text/plain": [
       "array([[0, 1, 1, 0, 0],\n",
       "       [0, 1, 1, 0, 1],\n",
       "       [1, 1, 1, 0, 0],\n",
       "       [0, 0, 0, 1, 1],\n",
       "       [0, 0, 0, 0, 0]])"
      ]
     },
     "execution_count": 148,
     "metadata": {},
     "output_type": "execute_result"
    }
   ],
   "source": [
    "X[n][:, n] # верхний левый сосед"
   ]
  },
  {
   "cell_type": "code",
   "execution_count": null,
   "metadata": {},
   "outputs": [],
   "source": [
    "size = 100\n",
    "k = 100\n",
    "plt.clf()\n",
    "%matplotlib widget\n",
    "X = np.array(random.choices([0, 1], weights=[0.9, 0.1], k=size**2)).reshape(size, size)\n",
    "n = np.array([size - 1] + list(range(0, size - 1)))\n",
    "p = np.array(list(range(1, size)) + [0])\n",
    "all_data = []\n",
    "for i in range(k):\n",
    "    N = X[:, n] + X[:, p] + X[n, :] + X[p, :] + X[n][:, n] + X[p][:, p] + X[n][:, p] + X[p][:, n]\n",
    "    X = (X&(N==2))|(N==3).astype(int)\n",
    "    all_data.append(X)\n",
    "    \n",
    "fig, ax = plt.subplots()\n",
    "img = ax.imshow(X, cmap='Oranges_r')\n",
    "def update(frame):\n",
    "    img.set_array(all_data[frame])\n",
    "    return img,\n",
    "ani = animation.FuncAnimation(fig, update, frames=k)\n",
    "plt.show() "
   ]
  },
  {
   "attachments": {},
   "cell_type": "markdown",
   "metadata": {},
   "source": [
    "### 2.2"
   ]
  },
  {
   "cell_type": "code",
   "execution_count": 150,
   "metadata": {},
   "outputs": [
    {
     "name": "stdout",
     "output_type": "stream",
     "text": [
      "-645 2836\n",
      "2 2\n"
     ]
    }
   ],
   "source": [
    "def expanded_echlid(a:int, b:int):\n",
    "    \"соглашение, что a > b\"\n",
    "    m = np.array([[1, 0], [0, 1]], dtype='int16')\n",
    "    while b != 0:\n",
    "        r = a % b\n",
    "        q = (a - r) // b\n",
    "        round_m = np.array([[0, 1], [1, -q]],  dtype='int16')\n",
    "        m = np.dot(m, round_m)\n",
    "        a = b\n",
    "        b = r\n",
    "    return  m[:, 0]\n",
    "\n",
    "a, b = 15310, 3482\n",
    "res = expanded_echlid(a, b)\n",
    "print(*res)\n",
    "print((res[0] * a + res[1] * b), math.gcd(a, b))"
   ]
  },
  {
   "attachments": {},
   "cell_type": "markdown",
   "metadata": {},
   "source": [
    "### 2.3"
   ]
  },
  {
   "attachments": {},
   "cell_type": "markdown",
   "metadata": {},
   "source": [
    "#### Добавление длины жизни клеток"
   ]
  },
  {
   "cell_type": "code",
   "execution_count": null,
   "metadata": {},
   "outputs": [],
   "source": [
    "def special_sum(m1, m2):\n",
    "    s = np.zeros_like(m1)\n",
    "    m1[m2 == 0] = 0\n",
    "    return m1 + m2\n",
    "\n",
    "size = 100\n",
    "k = 100\n",
    "plt.clf()\n",
    "%matplotlib widget\n",
    "X = np.array(random.choices([0, 1], weights=[0.9, 0.1], k=size**2)).reshape(size, size)\n",
    "n = np.array([size - 1] + list(range(0, size - 1)))\n",
    "p = np.array(list(range(1, size)) + [0])\n",
    "all_data = []\n",
    "\n",
    "K = np.zeros_like(X)\n",
    "for i in range(k):\n",
    "    K = special_sum(K, X)\n",
    "    X[K == 5] = 0\n",
    "    K[K == 5] = 0\n",
    "    N = X[:, n] + X[:, p] + X[n, :] + X[p, :] + X[n][:, n] + X[p][:, p] + X[n][:, p] + X[p][:, n]\n",
    "    X = (X&(N==2))|(N==3).astype(int)\n",
    "    all_data.append(X)\n",
    "    \n",
    "fig, ax = plt.subplots()\n",
    "img = ax.imshow(X, cmap='Oranges_r')\n",
    "def update(frame):\n",
    "    img.set_array(all_data[frame])\n",
    "    return img,\n",
    "ani = animation.FuncAnimation(fig, update, frames=k)\n",
    "plt.show() "
   ]
  },
  {
   "attachments": {},
   "cell_type": "markdown",
   "metadata": {},
   "source": [
    "#### Внедрение в игру мутантов"
   ]
  },
  {
   "cell_type": "code",
   "execution_count": null,
   "metadata": {},
   "outputs": [],
   "source": [
    "size = 50\n",
    "k = 100\n",
    "plt.clf()\n",
    "%matplotlib widget\n",
    "X = np.array(random.choices([0, 1], weights=[0.9, 0.1], k=size**2)).reshape(size, size)\n",
    "n = np.array([size - 1] + list(range(0, size - 1)))\n",
    "p = np.array(list(range(1, size)) + [0])\n",
    "all_data = []\n",
    "for i in range(k):\n",
    "    mutants = [[random.choice(range(size)), random.choice(range(size))] for i in range(random.choice(range(0, 5)))]\n",
    "    for t in range(len(mutants)):\n",
    "        if random.choices([1, 0], weights=[0.01, 0.8]):\n",
    "            i, j = mutants[t]\n",
    "            ii = (i + random.choice([-1, 1])) % size\n",
    "            jj = (j + random.choice([-1, 1])) % size\n",
    "            X[p[ii], n[jj]] = (X[p[ii], n[jj]] + 1) % 2\n",
    "            \n",
    "    N = X[:, n] + X[:, p] + X[n, :] + X[p, :] + X[n][:, n] + X[p][:, p] + X[n][:, p] + X[p][:, n]\n",
    "    X = (X&(N==2))|(N==3).astype(int)\n",
    "    all_data.append(X)\n",
    "    \n",
    "fig, ax = plt.subplots()\n",
    "img = ax.imshow(X, cmap='Oranges_r')\n",
    "def update(frame):\n",
    "    img.set_array(all_data[frame])\n",
    "    return img,\n",
    "ani = animation.FuncAnimation(fig, update, frames=k)\n",
    "plt.show() "
   ]
  },
  {
   "attachments": {},
   "cell_type": "markdown",
   "metadata": {},
   "source": [
    "## <font color = 'red' size = 5>Задание 3 </font>\n",
    "\n",
    "1. Преобразуйте формулы для коэффициентов регрессии в матричный вид и запишите их.\n",
    "2. Релиазуйте собственную модель линейной регрессии используя возможности numpy b формулы из п 1. На вход модель принимает набор $X$ и $Y$, а возвращает коэффициенты $a$ и $b$. Используйте векторизацию! \n",
    "3. Проверьте правильность модели с помощью рисунка и аналитически.\n",
    "4. Сверьте полученные данные с встроенным классом библиотеки sklearn.\n",
    "5. Протестируйте полученную вами модель на [реальных данных](https://www.kaggle.com/datasets/andonians/random-linear-regression)."
   ]
  },
  {
   "attachments": {},
   "cell_type": "markdown",
   "metadata": {},
   "source": [
    "### 3.1 Лекцию читай"
   ]
  },
  {
   "attachments": {},
   "cell_type": "markdown",
   "metadata": {},
   "source": [
    "### 3.2 "
   ]
  },
  {
   "cell_type": "code",
   "execution_count": 24,
   "metadata": {},
   "outputs": [],
   "source": [
    "class MyLinearRegression:\n",
    "    \n",
    "    \n",
    "    def __init__(self):\n",
    "        self.a = None\n",
    "        self.b = None\n",
    "        \n",
    "        \n",
    "    def fit(self, X, Y):\n",
    "        X_mean = np.average(X)\n",
    "        Y_mean = np.average(Y)\n",
    "        x = X.T - X_mean\n",
    "        y = Y - Y_mean\n",
    "        self.a = (np.dot(x, y) / np.dot(x, x.T).flatten())[0]\n",
    "        self.b = (Y_mean - self.a * X_mean).flatten()[0]\n",
    "        return self\n",
    "     \n",
    "        \n",
    "    def predict(self, X):\n",
    "        return (self.a * X + self.b).flatten()\n",
    "    \n",
    "    \n",
    "    def score(self, X, y):\n",
    "        y_m = np.mean(y)\n",
    "        y_pred = self.predict(X)\n",
    "        return 1 - (np.dot((y - y_pred), (y - y_pred).T)) / np.dot((y - y_m), (y - y_m).T)\n",
    "        "
   ]
  },
  {
   "cell_type": "code",
   "execution_count": 25,
   "metadata": {},
   "outputs": [
    {
     "data": {
      "image/png": "[encoded data removed]",
      "text/plain": [
       "<Figure size 640x480 with 1 Axes>"
      ]
     },
     "metadata": {},
     "output_type": "display_data"
    }
   ],
   "source": [
    "plt.clf()\n",
    "rng = np.random\n",
    "x = 10 * rng.rand(50)\n",
    "y = 2 * x - 1 + rng.randn(50)\n",
    "plt.xlabel('X')\n",
    "plt.ylabel('Y')\n",
    "plt.scatter(x, y)\n",
    "plt.show()\n"
   ]
  },
  {
   "cell_type": "code",
   "execution_count": 26,
   "metadata": {},
   "outputs": [
    {
     "name": "stdout",
     "output_type": "stream",
     "text": [
      "Score: 0.9714749855186512\n",
      "a = 2.1095126916745994, b = -1.4848483632587683\n"
     ]
    }
   ],
   "source": [
    "X = x[:, np.newaxis]\n",
    "X\n",
    "my_model = MyLinearRegression()\n",
    "my_model.fit(X, y)\n",
    "print(f'Score: {my_model.score(X, y)}')\n",
    "print(f'a = {my_model.a}, b = {my_model.b}')\n"
   ]
  },
  {
   "cell_type": "code",
   "execution_count": 27,
   "metadata": {},
   "outputs": [
    {
     "name": "stdout",
     "output_type": "stream",
     "text": [
      "Score: 0.9714749855186513\n",
      "a = 2.1095126916746003, b = -1.484848363258772\n"
     ]
    }
   ],
   "source": [
    "model = LinearRegression()\n",
    "model.fit(X, y)\n",
    "print(f'Score: {model.score(X, y)}')\n",
    "print(f'a = {model.coef_[0]}, b = {model.intercept_}')"
   ]
  },
  {
   "cell_type": "code",
   "execution_count": 28,
   "metadata": {},
   "outputs": [],
   "source": [
    "xx = np.linspace(int(np.min(x)), int(np.max(x)), 10)\n",
    "yy = my_model.a * xx + my_model.b"
   ]
  },
  {
   "cell_type": "code",
   "execution_count": 29,
   "metadata": {},
   "outputs": [
    {
     "data": {
      "image/png": "[encoded data removed]",
      "text/plain": [
       "<Figure size 640x480 with 1 Axes>"
      ]
     },
     "metadata": {},
     "output_type": "display_data"
    }
   ],
   "source": [
    "plt.scatter(x, y, s=16)\n",
    "plt.plot(xx, yy, color='r')\n",
    "plt.title('LinearRegression')\n",
    "plt.xlabel('X')\n",
    "plt.ylabel('Y')\n",
    "plt.legend(['object', 'ax + b']);"
   ]
  },
  {
   "attachments": {},
   "cell_type": "markdown",
   "metadata": {},
   "source": [
    "### 3.5 "
   ]
  },
  {
   "cell_type": "code",
   "execution_count": 30,
   "metadata": {},
   "outputs": [
    {
     "name": "stdout",
     "output_type": "stream",
     "text": [
      "Score: 0.9907015319025518\n",
      "a = 1.000656381856304, b = -0.10726546430097272\n"
     ]
    },
    {
     "data": {
      "image/png": "[encoded data removed]",
      "text/plain": [
       "<Figure size 640x480 with 1 Axes>"
      ]
     },
     "metadata": {},
     "output_type": "display_data"
    }
   ],
   "source": [
    "\n",
    "data = []\n",
    "with open('train.csv', 'r', encoding='utf-8') as file:\n",
    "    reader = csv.reader(file)\n",
    "    for row in reader:\n",
    "        data.append(row)\n",
    "data = list(map(lambda el: [float(el[0]), float(el[1])], data[1:]))\n",
    "data = np.array(data, dtype='float64').T\n",
    "x, y = data\n",
    "X = x[:, np.newaxis]\n",
    "\n",
    "model = LinearRegression()\n",
    "model.fit(X, y)\n",
    "print(f'Score: {model.score(X, y)}')\n",
    "print(f'a = {model.coef_[0]}, b = {model.intercept_}')\n",
    "\n",
    "xx = np.linspace(np.min(x), np.max(x), 10)\n",
    "yy = model.coef_[0] * xx + model.intercept_\n",
    "plt.scatter(x, y, s=12)\n",
    "plt.title('Train data')\n",
    "plt.xlabel('X')\n",
    "plt.ylabel('Y')\n",
    "plt.plot(xx, yy, color='r')\n",
    "plt.legend(['object', 'ax + b']);\n",
    "\n",
    "\n",
    "\n",
    "    \n",
    "\n",
    "    "
   ]
  },
  {
   "cell_type": "code",
   "execution_count": 31,
   "metadata": {},
   "outputs": [
    {
     "name": "stdout",
     "output_type": "stream",
     "text": [
      "Score: 0.9888014444327563\n"
     ]
    },
    {
     "data": {
      "image/png": "[encoded data removed]",
      "text/plain": [
       "<Figure size 640x480 with 1 Axes>"
      ]
     },
     "metadata": {},
     "output_type": "display_data"
    }
   ],
   "source": [
    "data = []\n",
    "with open('test.csv', 'r', encoding='utf-8') as file:\n",
    "    reader = csv.reader(file)\n",
    "    for row in reader:\n",
    "        data.append(row)\n",
    "data = list(map(lambda el: [float(el[0]), float(el[1])], data[1:]))\n",
    "data = np.array(data, dtype='float64').T\n",
    "x, y = data\n",
    "X = x[:, np.newaxis]\n",
    "xx = np.linspace(np.min(x), np.max(x), 10)\n",
    "yy = model.coef_[0] * xx + model.intercept_\n",
    "\n",
    "print(f'Score: {model.score(X, y)}')\n",
    "\n",
    "plt.scatter(x, y, s=12)\n",
    "plt.title('Test data')\n",
    "plt.xlabel('X')\n",
    "plt.ylabel('Y')\n",
    "plt.plot(xx, yy, color='r')\n",
    "plt.legend(['object', 'ax + b']);\n",
    "\n"
   ]
  },
  {
   "cell_type": "code",
   "execution_count": null,
   "metadata": {},
   "outputs": [],
   "source": []
  }
 ],
 "metadata": {
  "kernelspec": {
   "display_name": "Python 3",
   "language": "python",
   "name": "python3"
  },
  "language_info": {
   "codemirror_mode": {
    "name": "ipython",
    "version": 3
   },
   "file_extension": ".py",
   "mimetype": "text/x-python",
   "name": "python",
   "nbconvert_exporter": "python",
   "pygments_lexer": "ipython3",
   "version": "3.11.0"
  },
  "orig_nbformat": 4,
  "vscode": {
   "interpreter": {
    "hash": "aee8b7b246df8f9039afb4144a1f6fd8d2ca17a180786b69acc140d282b71a49"
   }
  }
 },
 "nbformat": 4,
 "nbformat_minor": 2
}
