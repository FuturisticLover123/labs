{
 "cells": [
  {
   "cell_type": "markdown",
   "id": "9cf98fe6",
   "metadata": {},
   "source": [
    "# Task 1"
   ]
  },
  {
   "cell_type": "code",
   "execution_count": 1,
   "id": "1cab77f6",
   "metadata": {},
   "outputs": [],
   "source": [
    "from sklearn.preprocessing import PolynomialFeatures\n",
    "from sklearn.linear_model import LinearRegression\n",
    "import numpy as np\n",
    "import numpy.linalg as alg\n",
    "import matplotlib.pyplot as plt\n",
    "import pandas as pd\n",
    "import numdifftools as nd\n",
    "import pandas as pd\n"
   ]
  },
  {
   "cell_type": "code",
   "execution_count": 2,
   "id": "e0687ad7",
   "metadata": {},
   "outputs": [],
   "source": [
    "A = np.random.randint(10,size =(10,10))\n",
    "x = np.arange(0,10)"
   ]
  },
  {
   "cell_type": "code",
   "execution_count": 3,
   "id": "3e5d1d52",
   "metadata": {},
   "outputs": [],
   "source": [
    "def func(x): \n",
    "    return np.dot(np.dot(x.T,A),x)"
   ]
  },
  {
   "cell_type": "code",
   "execution_count": 4,
   "id": "6d56f830",
   "metadata": {},
   "outputs": [],
   "source": [
    "def f1(x):\n",
    "    return np.dot(x.T, np.dot(A, x))\n",
    "\n",
    "def f2(x):\n",
    "    return np.dot(a.T, x)\n",
    "\n",
    "def xtx(x):\n",
    "    return np.dot(x.T, x)\n",
    "\n",
    "def lndetx(X_flat):\n",
    "    X = X_flat.reshape(3, 3)\n",
    "    return np.log(np.linalg.det(X))"
   ]
  },
  {
   "cell_type": "code",
   "execution_count": 5,
   "id": "8068ec03",
   "metadata": {},
   "outputs": [
    {
     "data": {
      "text/plain": [
       "(array([567., 304., 500., 442., 336., 384., 199., 331., 281., 249.]),\n",
       " array([567, 304, 500, 442, 336, 384, 199, 331, 281, 249]))"
      ]
     },
     "execution_count": 5,
     "metadata": {},
     "output_type": "execute_result"
    }
   ],
   "source": [
    "(nd.Gradient(func)(x), np.dot(A + A.T,x))"
   ]
  },
  {
   "cell_type": "code",
   "execution_count": 6,
   "id": "ef3158c5",
   "metadata": {},
   "outputs": [
    {
     "name": "stdout",
     "output_type": "stream",
     "text": [
      "[ 0  2  4  6  8 10 12 14 16 18]\n",
      "[ 0.  2.  4.  6.  8. 10. 12. 14. 16. 18.]\n"
     ]
    }
   ],
   "source": [
    "#xtx\n",
    "print(2 * x)\n",
    "print(nd.Gradient(xtx)(x))"
   ]
  },
  {
   "cell_type": "code",
   "execution_count": 127,
   "id": "c53fd807",
   "metadata": {},
   "outputs": [
    {
     "name": "stdout",
     "output_type": "stream",
     "text": [
      "[[-0.01203895 -0.04317154  0.02806533]\n",
      " [ 0.04232804  0.00529101 -0.01587302]\n",
      " [-0.11210797  0.06931984  0.0384173 ]]\n",
      "[[-0.01203895 -0.04317154  0.02806533]\n",
      " [ 0.04232804  0.00529101 -0.01587302]\n",
      " [-0.11210797  0.06931984  0.0384173 ]]\n"
     ]
    }
   ],
   "source": [
    "X = np.random.randint(100,size =(3,3))\n",
    "\n",
    "grad_analytic = np.linalg.inv(X).transpose()\n",
    "\n",
    "grad_numerical = nd.Gradient(lndetx)(X.flatten()).reshape(3, 3)\n",
    "\n",
    "print(grad_analytic)\n",
    "\n",
    "\n",
    "print(grad_numerical)"
   ]
  },
  {
   "cell_type": "markdown",
   "id": "27a8f6a0",
   "metadata": {},
   "source": [
    "# Task 2"
   ]
  },
  {
   "cell_type": "code",
   "execution_count": 120,
   "id": "17f290b7",
   "metadata": {},
   "outputs": [],
   "source": [
    "from sklearn.model_selection import train_test_split\n",
    "import matplotlib.pyplot as plt\n",
    "\n",
    "\n",
    "class LinRegression:\n",
    "    def __init__(self,x,y):\n",
    "        self.x_train, self.x_test, self.y_train, self.y_test = train_test_split(x, y, test_size=0.2, random_state=422)\n",
    "        self.l, self.bazis, self.features, self.w = 0, None, None, None\n",
    "    \n",
    "    def set_bazis(self, bazis):\n",
    "        self.bazis = bazis\n",
    "    \n",
    "    def set_features(self,features):\n",
    "        self.features = features\n",
    "\n",
    "    def set_l(self,l):\n",
    "        self.l = l\n",
    "        \n",
    "    def apply_features(self,x):\n",
    "        return x if self.features is None else self.features(x)\n",
    "    \n",
    "#     def get_matrq(self):\n",
    "#         features = self.apply_features(self.x_train)\n",
    "#         bazis = np.array([lambda x,i=i:x[i] for i in range(features.shape[1])]) if self.bazis is None else self.bazis\n",
    "#         q = np.array([[f(x) for f in bazis] for x in features])\n",
    "#         return q\n",
    "        \n",
    "    def get_matrq(self):\n",
    "        return gausian_bazis(self.x_train)\n",
    "    \n",
    "    def get_w(self):\n",
    "        if self.w is not None:\n",
    "            return self.w\n",
    "        q = self.get_matrq()\n",
    "        self.w =  np.dot(np.dot(alg.inv(np.dot(q.transpose(),q) + np.diag([self.l] * q.shape[1])),q.transpose()),self.y_train)\n",
    "        return self.w\n",
    "\n",
    "    def apply_weights(self,x):\n",
    "        w = self.get_w() if self.w is None else self.w\n",
    "        features = self.apply_features(x)\n",
    "        return np.array([np.dot(i,w) for i in features])\n",
    "    \n",
    "    def get_accuracy(self,x=None,y=None):\n",
    "        fx=self.apply_weights(self.x_test if x is None else x)\n",
    "        y_acc =self.y_test if y is None else y\n",
    "        return 1-(np.dot(y_acc - fx,y_acc - fx)) / (np.dot(y_acc - np.mean(y_acc),y_acc - np.mean(y_acc)))\n",
    "    \n",
    "    def clear(self):\n",
    "        self.w,features,self.bazis = None, None, None\n",
    "        \n",
    "    def validate(self,features: list,show=False):\n",
    "        self.clear()\n",
    "        train,test = list(), list()\n",
    "        for feature in features:\n",
    "            self.clear()\n",
    "            self.set_features(feature)\n",
    "            train.append(self.get_accuracy(self.x_train,self.y_train))\n",
    "            test.append(self.get_accuracy())\n",
    "        if show:\n",
    "            plt.plot(train,'r-o')\n",
    "            plt.plot(test,'b-o')\n",
    "            plt.legend(['Train', 'Test'])\n",
    "            plt.show()\n",
    "\n",
    "        return train,test"
   ]
  },
  {
   "cell_type": "code",
   "execution_count": 102,
   "id": "765fa37c",
   "metadata": {},
   "outputs": [],
   "source": [
    "def GausianBasis(shape: int):\n",
    "    return np.array([lambda x,i=i : np.exp(-((x - x[i])**2).sum()) for i in range(shape)])"
   ]
  },
  {
   "cell_type": "code",
   "execution_count": null,
   "id": "ded19858",
   "metadata": {},
   "outputs": [],
   "source": []
  },
  {
   "cell_type": "code",
   "execution_count": null,
   "id": "1507a062",
   "metadata": {},
   "outputs": [],
   "source": []
  },
  {
   "cell_type": "code",
   "execution_count": null,
   "id": "bb603c78",
   "metadata": {},
   "outputs": [],
   "source": []
  },
  {
   "cell_type": "code",
   "execution_count": 11,
   "id": "7f8c0086",
   "metadata": {},
   "outputs": [
    {
     "ename": "NameError",
     "evalue": "name 'make_regression' is not defined",
     "output_type": "error",
     "traceback": [
      "\u001b[1;31m---------------------------------------------------------------------------\u001b[0m",
      "\u001b[1;31mNameError\u001b[0m                                 Traceback (most recent call last)",
      "\u001b[1;32m~\\AppData\\Local\\Temp\\ipykernel_18640\\2694445025.py\u001b[0m in \u001b[0;36m<module>\u001b[1;34m\u001b[0m\n\u001b[1;32m----> 1\u001b[1;33m \u001b[0mx\u001b[0m\u001b[1;33m,\u001b[0m\u001b[0my\u001b[0m \u001b[1;33m=\u001b[0m \u001b[0mmake_regression\u001b[0m\u001b[1;33m(\u001b[0m\u001b[0mn_samples\u001b[0m\u001b[1;33m=\u001b[0m\u001b[1;36m1000\u001b[0m\u001b[1;33m,\u001b[0m\u001b[0mn_features\u001b[0m\u001b[1;33m=\u001b[0m\u001b[0mfeatures\u001b[0m\u001b[1;33m)\u001b[0m\u001b[1;33m\u001b[0m\u001b[1;33m\u001b[0m\u001b[0m\n\u001b[0m",
      "\u001b[1;31mNameError\u001b[0m: name 'make_regression' is not defined"
     ]
    }
   ],
   "source": [
    "x,y = make_regression(n_samples=1000,n_features=features)"
   ]
  },
  {
   "cell_type": "code",
   "execution_count": 64,
   "id": "cecc12fc",
   "metadata": {},
   "outputs": [
    {
     "data": {
      "text/plain": [
       "0.6369116857335633"
      ]
     },
     "execution_count": 64,
     "metadata": {},
     "output_type": "execute_result"
    }
   ],
   "source": [
    "model = LinearRegression(fit_intercept=True)\n",
    "model.fit(x,y)\n",
    "model.score(x,y)"
   ]
  },
  {
   "cell_type": "code",
   "execution_count": null,
   "id": "a056cda7",
   "metadata": {},
   "outputs": [],
   "source": [
    "features = 4\n",
    "\n",
    "reg = LinRegression(x,y)\n",
    "reg.set_l(1)\n",
    "reg.set_bazis(GausianBasis(features))\n",
    "reg.get_accuracy()"
   ]
  },
  {
   "cell_type": "code",
   "execution_count": null,
   "id": "e0df894d",
   "metadata": {},
   "outputs": [],
   "source": []
  },
  {
   "cell_type": "code",
   "execution_count": null,
   "id": "f5e70185",
   "metadata": {},
   "outputs": [],
   "source": [
    "plt.scatter(x,y)"
   ]
  },
  {
   "cell_type": "code",
   "execution_count": null,
   "id": "a42de2be",
   "metadata": {},
   "outputs": [],
   "source": [
    "def show(x,y,f):\n",
    "    x_i = np.linspace(x.min(),x.max(),1000)\n",
    "    plt.plot(x_i,f(np.array(x_i)[:, np.newaxis]),'r')\n",
    "    plt.scatter(x,y)"
   ]
  },
  {
   "cell_type": "markdown",
   "id": "40083811",
   "metadata": {},
   "source": []
  },
  {
   "cell_type": "code",
   "execution_count": null,
   "id": "6191075c",
   "metadata": {},
   "outputs": [],
   "source": [
    "rng = np.random.RandomState(1) # задаём искусственные данные\n",
    "x = (10 * rng.rand(50))\n",
    "y = 2*x+rng.randn(50)\n"
   ]
  },
  {
   "cell_type": "code",
   "execution_count": null,
   "id": "9955840f",
   "metadata": {},
   "outputs": [],
   "source": [
    "plt.scatter(x,y)\n"
   ]
  },
  {
   "cell_type": "code",
   "execution_count": null,
   "id": "76f55f15",
   "metadata": {},
   "outputs": [],
   "source": [
    "reg = LinRegression(x.reshape(-1,1),y)\n",
    "reg.set_features(PolynomialFeatures(degree=10).fit_transform)"
   ]
  },
  {
   "cell_type": "code",
   "execution_count": null,
   "id": "b5d31d66",
   "metadata": {},
   "outputs": [],
   "source": [
    "reg.get_accuracy()"
   ]
  },
  {
   "cell_type": "code",
   "execution_count": null,
   "id": "63a3d2de",
   "metadata": {},
   "outputs": [],
   "source": [
    "show(x,y,reg.apply_weights)"
   ]
  },
  {
   "cell_type": "code",
   "execution_count": null,
   "id": "a712d3d5",
   "metadata": {},
   "outputs": [],
   "source": [
    "reg.get_accuracy()"
   ]
  },
  {
   "cell_type": "code",
   "execution_count": null,
   "id": "124220a4",
   "metadata": {},
   "outputs": [],
   "source": []
  },
  {
   "cell_type": "code",
   "execution_count": null,
   "id": "c34bdb4c",
   "metadata": {},
   "outputs": [],
   "source": []
  },
  {
   "cell_type": "code",
   "execution_count": null,
   "id": "1315504d",
   "metadata": {},
   "outputs": [],
   "source": []
  },
  {
   "cell_type": "code",
   "execution_count": null,
   "id": "ba152616",
   "metadata": {},
   "outputs": [],
   "source": [
    "reg.get_w();"
   ]
  },
  {
   "cell_type": "code",
   "execution_count": null,
   "id": "3662ac0f",
   "metadata": {},
   "outputs": [],
   "source": [
    "reg.get_accuracy()"
   ]
  },
  {
   "cell_type": "code",
   "execution_count": null,
   "id": "0157a2c6",
   "metadata": {},
   "outputs": [],
   "source": [
    "m = x.T.mean(axis=1)\n",
    "m"
   ]
  },
  {
   "cell_type": "code",
   "execution_count": null,
   "id": "eafc7a65",
   "metadata": {},
   "outputs": [],
   "source": [
    "((x - m)**2).mean(axis=0)"
   ]
  },
  {
   "cell_type": "code",
   "execution_count": null,
   "id": "bd8cefab",
   "metadata": {},
   "outputs": [],
   "source": [
    "np.mean?"
   ]
  },
  {
   "cell_type": "code",
   "execution_count": null,
   "id": "2dae41d4",
   "metadata": {},
   "outputs": [],
   "source": []
  },
  {
   "cell_type": "code",
   "execution_count": 66,
   "id": "0627e799",
   "metadata": {},
   "outputs": [],
   "source": [
    "dta = pd.read_csv(\"1553768847-housing.csv\").dropna()\n",
    "x = dta.values[:,:8]\n",
    "y = dta.values[:,9]"
   ]
  },
  {
   "cell_type": "code",
   "execution_count": 67,
   "id": "b9e59f02",
   "metadata": {},
   "outputs": [],
   "source": [
    "reg = LinRegression(x,y)\n",
    "reg.set_features(PolynomialFeatures(degree=1).fit_transform)"
   ]
  },
  {
   "cell_type": "code",
   "execution_count": 68,
   "id": "64d0fcd6",
   "metadata": {},
   "outputs": [
    {
     "data": {
      "text/plain": [
       "array([-3607924.9514747295, -42901.07830781874, -42496.36012230831,\n",
       "       1180.2947638637581, -8.784978676703167, 124.44906602767767,\n",
       "       -36.64953626344854, 35.6612605894491, 40445.72798818309],\n",
       "      dtype=object)"
      ]
     },
     "execution_count": 68,
     "metadata": {},
     "output_type": "execute_result"
    }
   ],
   "source": [
    "reg.get_w()"
   ]
  },
  {
   "cell_type": "code",
   "execution_count": 69,
   "id": "2722c54f",
   "metadata": {},
   "outputs": [
    {
     "data": {
      "text/plain": [
       "0.6475421817245478"
      ]
     },
     "execution_count": 69,
     "metadata": {},
     "output_type": "execute_result"
    }
   ],
   "source": [
    "reg.get_accuracy()"
   ]
  },
  {
   "cell_type": "code",
   "execution_count": 16,
   "id": "cf160e1b",
   "metadata": {},
   "outputs": [
    {
     "data": {
      "text/plain": [
       "array([-3.58539575e+06, -4.27301205e+04, -4.25097369e+04,  1.15790031e+03,\n",
       "       -8.24972507e+00,  1.13820707e+02, -3.83855780e+01,  4.77013513e+01,\n",
       "        4.02975217e+04])"
      ]
     },
     "execution_count": 16,
     "metadata": {},
     "output_type": "execute_result"
    }
   ],
   "source": [
    "rg = LinearRegression(fit_intercept=False)\n",
    "\n",
    "rg.fit(PolynomialFeatures(degree=1).fit_transform(x),y)\n",
    "rg.coef_"
   ]
  },
  {
   "cell_type": "code",
   "execution_count": 72,
   "id": "516ff07c",
   "metadata": {},
   "outputs": [],
   "source": [
    "from sklearn.datasets import make_regression"
   ]
  },
  {
   "cell_type": "code",
   "execution_count": 115,
   "id": "d5a71661",
   "metadata": {},
   "outputs": [],
   "source": [
    "x,y = make_regression(100,3)"
   ]
  },
  {
   "cell_type": "code",
   "execution_count": null,
   "id": "a09449ff",
   "metadata": {},
   "outputs": [],
   "source": []
  },
  {
   "cell_type": "code",
   "execution_count": null,
   "id": "74ae2edb",
   "metadata": {},
   "outputs": [],
   "source": [
    "Гаусовы базисные функции"
   ]
  },
  {
   "cell_type": "code",
   "execution_count": null,
   "id": "0a222d88",
   "metadata": {},
   "outputs": [],
   "source": []
  },
  {
   "cell_type": "code",
   "execution_count": 95,
   "id": "339b468c",
   "metadata": {},
   "outputs": [],
   "source": [
    "\n",
    "def gaussian_basis(x, mu, sigma):\n",
    "    return np.exp(-0.5 * np.sum(((x - mu) / sigma) ** 2, axis=1))\n",
    "\n",
    "def gausian_bazis(X):\n",
    "    n,d = X.shape\n",
    "    centers = np.tile(np.linspace(-5,5,d),(d,1)).transpose()\n",
    "    sigma = 0.5\n",
    "    \n",
    "    # Функция для вычисления многомерных Гауссовых базисных функций\n",
    "    def gaussian_basis(x, mu, sigma):\n",
    "        return np.exp(-0.5 * np.sum(((x - mu) / sigma) ** 2, axis=1))\n",
    "\n",
    "    # Построение матрицы признаков\n",
    "    Phi = np.ones((n, d + 1))\n",
    "    for j in range(d):\n",
    "        Phi[:, j + 1] = gaussian_basis(X, centers[j], sigma)\n",
    "        \n",
    "    return Phi \n",
    "\n",
    "    "
   ]
  },
  {
   "cell_type": "code",
   "execution_count": 85,
   "id": "71aacacb",
   "metadata": {},
   "outputs": [
    {
     "data": {
      "text/plain": [
       "array([[1.00000000e+000, 7.83529523e-276, 2.08452188e-180, ...,\n",
       "        3.08496546e-058, 6.13357709e-113, 4.36049978e-189],\n",
       "       [1.00000000e+000, 1.74157312e-215, 1.97846852e-132, ...,\n",
       "        1.77497001e-084, 1.50692237e-151, 4.57456346e-240],\n",
       "       [1.00000000e+000, 2.49358245e-206, 4.64655435e-125, ...,\n",
       "        8.11917757e-088, 1.13065929e-156, 5.63002590e-247],\n",
       "       ...,\n",
       "       [1.00000000e+000, 7.12764247e-243, 7.36499261e-153, ...,\n",
       "        3.74169214e-063, 2.88939481e-123, 7.97819494e-205],\n",
       "       [1.00000000e+000, 1.91880117e-188, 4.08460162e-112, ...,\n",
       "        1.58637325e-104, 2.52369890e-178, 1.43558402e-273],\n",
       "       [1.00000000e+000, 5.15808846e-221, 1.72979069e-137, ...,\n",
       "        1.02697401e-086, 2.57381097e-153, 2.30649630e-241]])"
      ]
     },
     "execution_count": 85,
     "metadata": {},
     "output_type": "execute_result"
    }
   ],
   "source": [
    "gausian_bazis(x)"
   ]
  },
  {
   "cell_type": "code",
   "execution_count": 116,
   "id": "991b8d73",
   "metadata": {},
   "outputs": [],
   "source": [
    "X_input = np.random.uniform(-3, 3, (1000, 5))"
   ]
  },
  {
   "cell_type": "code",
   "execution_count": null,
   "id": "1d345e56",
   "metadata": {},
   "outputs": [],
   "source": []
  },
  {
   "cell_type": "code",
   "execution_count": 117,
   "id": "d4504479",
   "metadata": {},
   "outputs": [
    {
     "data": {
      "text/plain": [
       "array([[ 1.90111473,  0.82308137, -1.9299483 , -0.59613875, -1.46589781],\n",
       "       [-2.25746718, -2.16423045,  2.47361613,  1.61581337, -0.56978607],\n",
       "       [-0.04164526, -0.52539275,  1.7174843 , -2.27786107,  0.7286371 ],\n",
       "       ...,\n",
       "       [-0.03548479, -2.87096228,  2.43923164, -0.78858678, -2.82811018],\n",
       "       [ 2.63426467,  0.6587729 ,  2.60277079, -0.39588878, -0.76930239],\n",
       "       [-2.14426387,  0.71181352,  0.2562953 ,  0.34231689, -2.12378425]])"
      ]
     },
     "execution_count": 117,
     "metadata": {},
     "output_type": "execute_result"
    }
   ],
   "source": [
    "X_input"
   ]
  },
  {
   "cell_type": "code",
   "execution_count": 121,
   "id": "fb0a3815",
   "metadata": {},
   "outputs": [
    {
     "ename": "ValueError",
     "evalue": "shapes (3,) and (4,) not aligned: 3 (dim 0) != 4 (dim 0)",
     "output_type": "error",
     "traceback": [
      "\u001b[1;31m---------------------------------------------------------------------------\u001b[0m",
      "\u001b[1;31mValueError\u001b[0m                                Traceback (most recent call last)",
      "\u001b[1;32m~\\AppData\\Local\\Temp\\ipykernel_18640\\3409110145.py\u001b[0m in \u001b[0;36m<module>\u001b[1;34m\u001b[0m\n\u001b[0;32m      1\u001b[0m \u001b[0mmodel\u001b[0m \u001b[1;33m=\u001b[0m \u001b[0mLinRegression\u001b[0m\u001b[1;33m(\u001b[0m\u001b[0mx\u001b[0m\u001b[1;33m,\u001b[0m\u001b[0my\u001b[0m\u001b[1;33m)\u001b[0m\u001b[1;33m\u001b[0m\u001b[1;33m\u001b[0m\u001b[0m\n\u001b[0;32m      2\u001b[0m \u001b[0mmodel\u001b[0m\u001b[1;33m.\u001b[0m\u001b[0mset_l\u001b[0m\u001b[1;33m(\u001b[0m\u001b[1;36m10\u001b[0m\u001b[1;33m)\u001b[0m\u001b[1;33m\u001b[0m\u001b[1;33m\u001b[0m\u001b[0m\n\u001b[1;32m----> 3\u001b[1;33m \u001b[0mmodel\u001b[0m\u001b[1;33m.\u001b[0m\u001b[0mget_accuracy\u001b[0m\u001b[1;33m(\u001b[0m\u001b[1;33m)\u001b[0m\u001b[1;33m\u001b[0m\u001b[1;33m\u001b[0m\u001b[0m\n\u001b[0m",
      "\u001b[1;32m~\\AppData\\Local\\Temp\\ipykernel_18640\\1775686614.py\u001b[0m in \u001b[0;36mget_accuracy\u001b[1;34m(self, x, y)\u001b[0m\n\u001b[0;32m     42\u001b[0m \u001b[1;33m\u001b[0m\u001b[0m\n\u001b[0;32m     43\u001b[0m     \u001b[1;32mdef\u001b[0m \u001b[0mget_accuracy\u001b[0m\u001b[1;33m(\u001b[0m\u001b[0mself\u001b[0m\u001b[1;33m,\u001b[0m\u001b[0mx\u001b[0m\u001b[1;33m=\u001b[0m\u001b[1;32mNone\u001b[0m\u001b[1;33m,\u001b[0m\u001b[0my\u001b[0m\u001b[1;33m=\u001b[0m\u001b[1;32mNone\u001b[0m\u001b[1;33m)\u001b[0m\u001b[1;33m:\u001b[0m\u001b[1;33m\u001b[0m\u001b[1;33m\u001b[0m\u001b[0m\n\u001b[1;32m---> 44\u001b[1;33m         \u001b[0mfx\u001b[0m\u001b[1;33m=\u001b[0m\u001b[0mself\u001b[0m\u001b[1;33m.\u001b[0m\u001b[0mapply_weights\u001b[0m\u001b[1;33m(\u001b[0m\u001b[0mself\u001b[0m\u001b[1;33m.\u001b[0m\u001b[0mx_test\u001b[0m \u001b[1;32mif\u001b[0m \u001b[0mx\u001b[0m \u001b[1;32mis\u001b[0m \u001b[1;32mNone\u001b[0m \u001b[1;32melse\u001b[0m \u001b[0mx\u001b[0m\u001b[1;33m)\u001b[0m\u001b[1;33m\u001b[0m\u001b[1;33m\u001b[0m\u001b[0m\n\u001b[0m\u001b[0;32m     45\u001b[0m         \u001b[0my_acc\u001b[0m \u001b[1;33m=\u001b[0m\u001b[0mself\u001b[0m\u001b[1;33m.\u001b[0m\u001b[0my_test\u001b[0m \u001b[1;32mif\u001b[0m \u001b[0my\u001b[0m \u001b[1;32mis\u001b[0m \u001b[1;32mNone\u001b[0m \u001b[1;32melse\u001b[0m \u001b[0my\u001b[0m\u001b[1;33m\u001b[0m\u001b[1;33m\u001b[0m\u001b[0m\n\u001b[0;32m     46\u001b[0m         \u001b[1;32mreturn\u001b[0m \u001b[1;36m1\u001b[0m\u001b[1;33m-\u001b[0m\u001b[1;33m(\u001b[0m\u001b[0mnp\u001b[0m\u001b[1;33m.\u001b[0m\u001b[0mdot\u001b[0m\u001b[1;33m(\u001b[0m\u001b[0my_acc\u001b[0m \u001b[1;33m-\u001b[0m \u001b[0mfx\u001b[0m\u001b[1;33m,\u001b[0m\u001b[0my_acc\u001b[0m \u001b[1;33m-\u001b[0m \u001b[0mfx\u001b[0m\u001b[1;33m)\u001b[0m\u001b[1;33m)\u001b[0m \u001b[1;33m/\u001b[0m \u001b[1;33m(\u001b[0m\u001b[0mnp\u001b[0m\u001b[1;33m.\u001b[0m\u001b[0mdot\u001b[0m\u001b[1;33m(\u001b[0m\u001b[0my_acc\u001b[0m \u001b[1;33m-\u001b[0m \u001b[0mnp\u001b[0m\u001b[1;33m.\u001b[0m\u001b[0mmean\u001b[0m\u001b[1;33m(\u001b[0m\u001b[0my_acc\u001b[0m\u001b[1;33m)\u001b[0m\u001b[1;33m,\u001b[0m\u001b[0my_acc\u001b[0m \u001b[1;33m-\u001b[0m \u001b[0mnp\u001b[0m\u001b[1;33m.\u001b[0m\u001b[0mmean\u001b[0m\u001b[1;33m(\u001b[0m\u001b[0my_acc\u001b[0m\u001b[1;33m)\u001b[0m\u001b[1;33m)\u001b[0m\u001b[1;33m)\u001b[0m\u001b[1;33m\u001b[0m\u001b[1;33m\u001b[0m\u001b[0m\n",
      "\u001b[1;32m~\\AppData\\Local\\Temp\\ipykernel_18640\\1775686614.py\u001b[0m in \u001b[0;36mapply_weights\u001b[1;34m(self, x)\u001b[0m\n\u001b[0;32m     39\u001b[0m         \u001b[0mw\u001b[0m \u001b[1;33m=\u001b[0m \u001b[0mself\u001b[0m\u001b[1;33m.\u001b[0m\u001b[0mget_w\u001b[0m\u001b[1;33m(\u001b[0m\u001b[1;33m)\u001b[0m \u001b[1;32mif\u001b[0m \u001b[0mself\u001b[0m\u001b[1;33m.\u001b[0m\u001b[0mw\u001b[0m \u001b[1;32mis\u001b[0m \u001b[1;32mNone\u001b[0m \u001b[1;32melse\u001b[0m \u001b[0mself\u001b[0m\u001b[1;33m.\u001b[0m\u001b[0mw\u001b[0m\u001b[1;33m\u001b[0m\u001b[1;33m\u001b[0m\u001b[0m\n\u001b[0;32m     40\u001b[0m         \u001b[0mfeatures\u001b[0m \u001b[1;33m=\u001b[0m \u001b[0mself\u001b[0m\u001b[1;33m.\u001b[0m\u001b[0mapply_features\u001b[0m\u001b[1;33m(\u001b[0m\u001b[0mx\u001b[0m\u001b[1;33m)\u001b[0m\u001b[1;33m\u001b[0m\u001b[1;33m\u001b[0m\u001b[0m\n\u001b[1;32m---> 41\u001b[1;33m         \u001b[1;32mreturn\u001b[0m \u001b[0mnp\u001b[0m\u001b[1;33m.\u001b[0m\u001b[0marray\u001b[0m\u001b[1;33m(\u001b[0m\u001b[1;33m[\u001b[0m\u001b[0mnp\u001b[0m\u001b[1;33m.\u001b[0m\u001b[0mdot\u001b[0m\u001b[1;33m(\u001b[0m\u001b[0mi\u001b[0m\u001b[1;33m,\u001b[0m\u001b[0mw\u001b[0m\u001b[1;33m)\u001b[0m \u001b[1;32mfor\u001b[0m \u001b[0mi\u001b[0m \u001b[1;32min\u001b[0m \u001b[0mfeatures\u001b[0m\u001b[1;33m]\u001b[0m\u001b[1;33m)\u001b[0m\u001b[1;33m\u001b[0m\u001b[1;33m\u001b[0m\u001b[0m\n\u001b[0m\u001b[0;32m     42\u001b[0m \u001b[1;33m\u001b[0m\u001b[0m\n\u001b[0;32m     43\u001b[0m     \u001b[1;32mdef\u001b[0m \u001b[0mget_accuracy\u001b[0m\u001b[1;33m(\u001b[0m\u001b[0mself\u001b[0m\u001b[1;33m,\u001b[0m\u001b[0mx\u001b[0m\u001b[1;33m=\u001b[0m\u001b[1;32mNone\u001b[0m\u001b[1;33m,\u001b[0m\u001b[0my\u001b[0m\u001b[1;33m=\u001b[0m\u001b[1;32mNone\u001b[0m\u001b[1;33m)\u001b[0m\u001b[1;33m:\u001b[0m\u001b[1;33m\u001b[0m\u001b[1;33m\u001b[0m\u001b[0m\n",
      "\u001b[1;32m~\\AppData\\Local\\Temp\\ipykernel_18640\\1775686614.py\u001b[0m in \u001b[0;36m<listcomp>\u001b[1;34m(.0)\u001b[0m\n\u001b[0;32m     39\u001b[0m         \u001b[0mw\u001b[0m \u001b[1;33m=\u001b[0m \u001b[0mself\u001b[0m\u001b[1;33m.\u001b[0m\u001b[0mget_w\u001b[0m\u001b[1;33m(\u001b[0m\u001b[1;33m)\u001b[0m \u001b[1;32mif\u001b[0m \u001b[0mself\u001b[0m\u001b[1;33m.\u001b[0m\u001b[0mw\u001b[0m \u001b[1;32mis\u001b[0m \u001b[1;32mNone\u001b[0m \u001b[1;32melse\u001b[0m \u001b[0mself\u001b[0m\u001b[1;33m.\u001b[0m\u001b[0mw\u001b[0m\u001b[1;33m\u001b[0m\u001b[1;33m\u001b[0m\u001b[0m\n\u001b[0;32m     40\u001b[0m         \u001b[0mfeatures\u001b[0m \u001b[1;33m=\u001b[0m \u001b[0mself\u001b[0m\u001b[1;33m.\u001b[0m\u001b[0mapply_features\u001b[0m\u001b[1;33m(\u001b[0m\u001b[0mx\u001b[0m\u001b[1;33m)\u001b[0m\u001b[1;33m\u001b[0m\u001b[1;33m\u001b[0m\u001b[0m\n\u001b[1;32m---> 41\u001b[1;33m         \u001b[1;32mreturn\u001b[0m \u001b[0mnp\u001b[0m\u001b[1;33m.\u001b[0m\u001b[0marray\u001b[0m\u001b[1;33m(\u001b[0m\u001b[1;33m[\u001b[0m\u001b[0mnp\u001b[0m\u001b[1;33m.\u001b[0m\u001b[0mdot\u001b[0m\u001b[1;33m(\u001b[0m\u001b[0mi\u001b[0m\u001b[1;33m,\u001b[0m\u001b[0mw\u001b[0m\u001b[1;33m)\u001b[0m \u001b[1;32mfor\u001b[0m \u001b[0mi\u001b[0m \u001b[1;32min\u001b[0m \u001b[0mfeatures\u001b[0m\u001b[1;33m]\u001b[0m\u001b[1;33m)\u001b[0m\u001b[1;33m\u001b[0m\u001b[1;33m\u001b[0m\u001b[0m\n\u001b[0m\u001b[0;32m     42\u001b[0m \u001b[1;33m\u001b[0m\u001b[0m\n\u001b[0;32m     43\u001b[0m     \u001b[1;32mdef\u001b[0m \u001b[0mget_accuracy\u001b[0m\u001b[1;33m(\u001b[0m\u001b[0mself\u001b[0m\u001b[1;33m,\u001b[0m\u001b[0mx\u001b[0m\u001b[1;33m=\u001b[0m\u001b[1;32mNone\u001b[0m\u001b[1;33m,\u001b[0m\u001b[0my\u001b[0m\u001b[1;33m=\u001b[0m\u001b[1;32mNone\u001b[0m\u001b[1;33m)\u001b[0m\u001b[1;33m:\u001b[0m\u001b[1;33m\u001b[0m\u001b[1;33m\u001b[0m\u001b[0m\n",
      "\u001b[1;32m<__array_function__ internals>\u001b[0m in \u001b[0;36mdot\u001b[1;34m(*args, **kwargs)\u001b[0m\n",
      "\u001b[1;31mValueError\u001b[0m: shapes (3,) and (4,) not aligned: 3 (dim 0) != 4 (dim 0)"
     ]
    }
   ],
   "source": [
    "model = LinRegression(x,y)\n",
    "model.set_l(10)\n",
    "model.get_accuracy()"
   ]
  },
  {
   "cell_type": "code",
   "execution_count": null,
   "id": "44fefbe1",
   "metadata": {},
   "outputs": [],
   "source": []
  },
  {
   "cell_type": "code",
   "execution_count": null,
   "id": "a24853ee",
   "metadata": {},
   "outputs": [],
   "source": []
  },
  {
   "cell_type": "code",
   "execution_count": null,
   "id": "5a05d5b9",
   "metadata": {},
   "outputs": [],
   "source": []
  }
 ],
 "metadata": {
  "kernelspec": {
   "display_name": "Python 3 (ipykernel)",
   "language": "python",
   "name": "python3"
  },
  "language_info": {
   "codemirror_mode": {
    "name": "ipython",
    "version": 3
   },
   "file_extension": ".py",
   "mimetype": "text/x-python",
   "name": "python",
   "nbconvert_exporter": "python",
   "pygments_lexer": "ipython3",
   "version": "3.9.13"
  }
 },
 "nbformat": 4,
 "nbformat_minor": 5
}
