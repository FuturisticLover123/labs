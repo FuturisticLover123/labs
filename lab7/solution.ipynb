{
  "nbformat": 4,
  "nbformat_minor": 0,
  "metadata": {
    "colab": {
      "provenance": [],
      "authorship_tag": "ABX9TyMLLJLb9Vxbv3rVhR4kvzhS",
      "include_colab_link": true
    },
    "kernelspec": {
      "name": "python3",
      "display_name": "Python 3"
    },
    "language_info": {
      "name": "python"
    }
  },
  "cells": [
    {
      "cell_type": "markdown",
      "metadata": {
        "id": "view-in-github",
        "colab_type": "text"
      },
      "source": [
        "<a href=\"https://colab.research.google.com/github/FuturisticLover123/labs/blob/main/lab7/solution.ipynb\" target=\"_parent\"><img src=\"https://colab.research.google.com/assets/colab-badge.svg\" alt=\"Open In Colab\"/></a>"
      ]
    },
    {
      "cell_type": "code",
      "execution_count": null,
      "metadata": {
        "id": "p1BayqoYEug3"
      },
      "outputs": [],
      "source": [
        "from sklearn.datasets import make_classification\n",
        "from matplotlib import pyplot as plt\n",
        "\n",
        "X,y = make_classification(n_samples=500, n_features=2, n_informative=2,\n",
        "                          n_redundant=0, n_classes=3, n_clusters_per_class=1)\n",
        "\n",
        "plt.scatter(X[:,0], X[:,1],c=y,s=8)"
      ]
    },
    {
      "cell_type": "code",
      "source": [
        "#1"
      ],
      "metadata": {
        "id": "kWxykFNVMrJy"
      },
      "execution_count": null,
      "outputs": []
    },
    {
      "cell_type": "code",
      "source": [
        "from collections import Counter\n",
        "\n",
        "class KNeibours:\n",
        "  def __init__(self, distance):\n",
        "    self.distance = distance\n",
        "\n",
        "  def classify(self, x, X, Y, k):\n",
        "    distances = [(self.distance(x_i, x), y_i) for x_i,y_i in zip(X, Y)]\n",
        "\n",
        "    sorted_dist = sorted(distances, key= lambda x: x[0])[:k]\n",
        "\n",
        "    print(sorted_dist)\n",
        "\n",
        "    return Counter([x_i[1] for x_i in sorted_dist]).most_common(1)[0][0]"
      ],
      "metadata": {
        "id": "8WE0XeE9MsUr"
      },
      "execution_count": 67,
      "outputs": []
    },
    {
      "cell_type": "code",
      "source": [
        "distance = lambda x,y: ((x-y)**2).sum()\n",
        "\n",
        "kng = KNeibours(distance)"
      ],
      "metadata": {
        "id": "dNQ7wcElO0Mn"
      },
      "execution_count": 68,
      "outputs": []
    },
    {
      "cell_type": "code",
      "source": [
        "kng.classify(X[3],X,y,10)"
      ],
      "metadata": {
        "id": "w68cwBzFPAON",
        "outputId": "e74d0de7-cc7d-4484-a48e-75cdbe272241",
        "colab": {
          "base_uri": "https://localhost:8080/"
        }
      },
      "execution_count": 72,
      "outputs": [
        {
          "output_type": "stream",
          "name": "stdout",
          "text": [
            "[(0.0, 0), (0.0003523596445300256, 0), (0.0006415295081944366, 0), (0.002220436546746675, 0), (0.012274288764696502, 0), (0.015567592559273091, 0), (0.01670912918289677, 0), (0.016797726989649892, 1), (0.018701778784205928, 1), (0.0208368610130824, 0)]\n"
          ]
        },
        {
          "output_type": "execute_result",
          "data": {
            "text/plain": [
              "0"
            ]
          },
          "metadata": {},
          "execution_count": 72
        }
      ]
    },
    {
      "cell_type": "code",
      "source": [],
      "metadata": {
        "id": "2qr1VHOgPNr3"
      },
      "execution_count": null,
      "outputs": []
    }
  ]
}